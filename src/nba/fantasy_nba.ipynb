{
 "cells": [
  {
   "cell_type": "code",
   "execution_count": 3,
   "metadata": {
    "collapsed": false
   },
   "outputs": [],
   "source": [
    "%matplotlib inline\n",
    "from pymongo import MongoClient\n",
    "import pandas as pd\n",
    "from tqdm import *\n",
    "import pandas as pd\n",
    "import pylab as p\n",
    "import matplotlib.pyplot as plt\n",
    "import numpy as np\n",
    "from sklearn.ensemble import RandomForestClassifier\n",
    "from sklearn.ensemble import RandomForestRegressor\n",
    "from sklearn.ensemble import ExtraTreesClassifier, ExtraTreesRegressor, GradientBoostingRegressor\n",
    "from sklearn import cross_validation\n",
    "from sklearn.grid_search import GridSearchCV\n",
    "from sklearn.metrics import median_absolute_error, mean_squared_error, explained_variance_score, mean_absolute_error, r2_score\n",
    "from sklearn.cross_validation import ShuffleSplit, train_test_split\n",
    "import scipy\n",
    "import random\n",
    "import time\n",
    "from multiprocessing import Pool\n",
    "from scipy.stats import boxcox\n",
    "import matplotlib\n",
    "import bayeslite as bl\n",
    "matplotlib.style.use('ggplot')"
   ]
  },
  {
   "cell_type": "code",
   "execution_count": 2,
   "metadata": {
    "collapsed": false
   },
   "outputs": [
    {
     "name": "stderr",
     "output_type": "stream",
     "text": [
      "3804it [00:01, 2425.09it/s]Process PoolWorker-7:\n",
      "Process PoolWorker-1:\n",
      "Process PoolWorker-8:\n",
      "Process PoolWorker-4:\n",
      "Process PoolWorker-2:\n",
      "Process PoolWorker-6:\n",
      "Process PoolWorker-3:\n",
      "Process PoolWorker-5:\n",
      "Traceback (most recent call last):\n",
      "Traceback (most recent call last):\n",
      "Traceback (most recent call last):\n",
      "Traceback (most recent call last):\n",
      "Traceback (most recent call last):\n",
      "Traceback (most recent call last):\n",
      "Traceback (most recent call last):\n",
      "Traceback (most recent call last):\n",
      "  File \"/System/Library/Frameworks/Python.framework/Versions/2.7/lib/python2.7/multiprocessing/process.py\", line 258, in _bootstrap\n",
      "  File \"/System/Library/Frameworks/Python.framework/Versions/2.7/lib/python2.7/multiprocessing/process.py\", line 258, in _bootstrap\n",
      "  File \"/System/Library/Frameworks/Python.framework/Versions/2.7/lib/python2.7/multiprocessing/process.py\", line 258, in _bootstrap\n",
      "  File \"/System/Library/Frameworks/Python.framework/Versions/2.7/lib/python2.7/multiprocessing/process.py\", line 258, in _bootstrap\n",
      "  File \"/System/Library/Frameworks/Python.framework/Versions/2.7/lib/python2.7/multiprocessing/process.py\", line 258, in _bootstrap\n",
      "  File \"/System/Library/Frameworks/Python.framework/Versions/2.7/lib/python2.7/multiprocessing/process.py\", line 258, in _bootstrap\n",
      "  File \"/System/Library/Frameworks/Python.framework/Versions/2.7/lib/python2.7/multiprocessing/process.py\", line 258, in _bootstrap\n",
      "  File \"/System/Library/Frameworks/Python.framework/Versions/2.7/lib/python2.7/multiprocessing/process.py\", line 258, in _bootstrap\n",
      "    self.run()\n",
      "    self.run()\n",
      "    self.run()\n",
      "    self.run()\n",
      "    self.run()\n",
      "    self.run()\n",
      "    self.run()\n",
      "    self.run()\n",
      "  File \"/System/Library/Frameworks/Python.framework/Versions/2.7/lib/python2.7/multiprocessing/process.py\", line 114, in run\n",
      "  File \"/System/Library/Frameworks/Python.framework/Versions/2.7/lib/python2.7/multiprocessing/process.py\", line 114, in run\n",
      "  File \"/System/Library/Frameworks/Python.framework/Versions/2.7/lib/python2.7/multiprocessing/process.py\", line 114, in run\n",
      "  File \"/System/Library/Frameworks/Python.framework/Versions/2.7/lib/python2.7/multiprocessing/process.py\", line 114, in run\n",
      "  File \"/System/Library/Frameworks/Python.framework/Versions/2.7/lib/python2.7/multiprocessing/process.py\", line 114, in run\n",
      "  File \"/System/Library/Frameworks/Python.framework/Versions/2.7/lib/python2.7/multiprocessing/process.py\", line 114, in run\n",
      "  File \"/System/Library/Frameworks/Python.framework/Versions/2.7/lib/python2.7/multiprocessing/process.py\", line 114, in run\n",
      "  File \"/System/Library/Frameworks/Python.framework/Versions/2.7/lib/python2.7/multiprocessing/process.py\", line 114, in run\n",
      "    self._target(*self._args, **self._kwargs)\n",
      "    self._target(*self._args, **self._kwargs)\n",
      "    self._target(*self._args, **self._kwargs)\n",
      "    self._target(*self._args, **self._kwargs)\n",
      "    self._target(*self._args, **self._kwargs)\n",
      "    self._target(*self._args, **self._kwargs)\n",
      "    self._target(*self._args, **self._kwargs)\n",
      "    self._target(*self._args, **self._kwargs)\n",
      "  File \"/System/Library/Frameworks/Python.framework/Versions/2.7/lib/python2.7/multiprocessing/pool.py\", line 102, in worker\n",
      "  File \"/System/Library/Frameworks/Python.framework/Versions/2.7/lib/python2.7/multiprocessing/pool.py\", line 102, in worker\n",
      "  File \"/System/Library/Frameworks/Python.framework/Versions/2.7/lib/python2.7/multiprocessing/pool.py\", line 102, in worker\n",
      "  File \"/System/Library/Frameworks/Python.framework/Versions/2.7/lib/python2.7/multiprocessing/pool.py\", line 102, in worker\n",
      "  File \"/System/Library/Frameworks/Python.framework/Versions/2.7/lib/python2.7/multiprocessing/pool.py\", line 102, in worker\n",
      "  File \"/System/Library/Frameworks/Python.framework/Versions/2.7/lib/python2.7/multiprocessing/pool.py\", line 102, in worker\n",
      "  File \"/System/Library/Frameworks/Python.framework/Versions/2.7/lib/python2.7/multiprocessing/pool.py\", line 102, in worker\n",
      "  File \"/System/Library/Frameworks/Python.framework/Versions/2.7/lib/python2.7/multiprocessing/pool.py\", line 102, in worker\n",
      "    task = get()\n",
      "    task = get()\n",
      "    task = get()\n",
      "    task = get()\n",
      "    task = get()\n",
      "    task = get()\n",
      "    task = get()\n",
      "    task = get()\n",
      "  File \"/System/Library/Frameworks/Python.framework/Versions/2.7/lib/python2.7/multiprocessing/queues.py\", line 376, in get\n",
      "  File \"/System/Library/Frameworks/Python.framework/Versions/2.7/lib/python2.7/multiprocessing/queues.py\", line 378, in get\n",
      "  File \"/System/Library/Frameworks/Python.framework/Versions/2.7/lib/python2.7/multiprocessing/queues.py\", line 376, in get\n",
      "  File \"/System/Library/Frameworks/Python.framework/Versions/2.7/lib/python2.7/multiprocessing/queues.py\", line 376, in get\n",
      "  File \"/System/Library/Frameworks/Python.framework/Versions/2.7/lib/python2.7/multiprocessing/queues.py\", line 376, in get\n",
      "  File \"/System/Library/Frameworks/Python.framework/Versions/2.7/lib/python2.7/multiprocessing/queues.py\", line 376, in get\n",
      "  File \"/System/Library/Frameworks/Python.framework/Versions/2.7/lib/python2.7/multiprocessing/queues.py\", line 376, in get\n",
      "  File \"/System/Library/Frameworks/Python.framework/Versions/2.7/lib/python2.7/multiprocessing/queues.py\", line 376, in get\n",
      "    racquire()\n",
      "    return recv()\n",
      "    racquire()\n",
      "    racquire()\n",
      "    racquire()\n",
      "    racquire()\n",
      "    racquire()\n",
      "    racquire()\n",
      "KeyboardInterrupt\n",
      "KeyboardInterrupt\n",
      "KeyboardInterrupt\n",
      "KeyboardInterrupt\n",
      "KeyboardInterrupt\n",
      "KeyboardInterrupt\n",
      "KeyboardInterrupt\n",
      "KeyboardInterrupt\n"
     ]
    },
    {
     "ename": "KeyboardInterrupt",
     "evalue": "",
     "output_type": "error",
     "traceback": [
      "\u001b[0;31m---------------------------------------------------------------------------\u001b[0m",
      "\u001b[0;31mKeyboardInterrupt\u001b[0m                         Traceback (most recent call last)",
      "\u001b[0;32m<ipython-input-2-b1a3b8870a56>\u001b[0m in \u001b[0;36m<module>\u001b[0;34m()\u001b[0m\n\u001b[1;32m     41\u001b[0m             \u001b[0mplayers_dict\u001b[0m\u001b[0;34m[\u001b[0m\u001b[0;34m'team_index'\u001b[0m\u001b[0;34m]\u001b[0m \u001b[0;34m=\u001b[0m \u001b[0mteam_index\u001b[0m\u001b[0;34m\u001b[0m\u001b[0m\n\u001b[1;32m     42\u001b[0m             \u001b[0mplayers_dict\u001b[0m\u001b[0;34m[\u001b[0m\u001b[0;34m'player'\u001b[0m\u001b[0;34m]\u001b[0m \u001b[0;34m=\u001b[0m \u001b[0mplayer\u001b[0m\u001b[0;34m[\u001b[0m\u001b[0;34m'player'\u001b[0m\u001b[0;34m]\u001b[0m\u001b[0;34m\u001b[0m\u001b[0m\n\u001b[0;32m---> 43\u001b[0;31m             \u001b[0mplayers_dict\u001b[0m\u001b[0;34m[\u001b[0m\u001b[0;34m'ft_pct'\u001b[0m\u001b[0;34m]\u001b[0m \u001b[0;34m=\u001b[0m \u001b[0mstr_to_float\u001b[0m\u001b[0;34m(\u001b[0m\u001b[0mplayer\u001b[0m\u001b[0;34m[\u001b[0m\u001b[0;34m'ft_pct'\u001b[0m\u001b[0;34m]\u001b[0m\u001b[0;34m)\u001b[0m\u001b[0;34m\u001b[0m\u001b[0m\n\u001b[0m\u001b[1;32m     44\u001b[0m             \u001b[0mplayers_dict\u001b[0m\u001b[0;34m[\u001b[0m\u001b[0;34m'fg3a'\u001b[0m\u001b[0;34m]\u001b[0m \u001b[0;34m=\u001b[0m \u001b[0mstr_to_int\u001b[0m\u001b[0;34m(\u001b[0m\u001b[0mplayer\u001b[0m\u001b[0;34m[\u001b[0m\u001b[0;34m'fg3a'\u001b[0m\u001b[0;34m]\u001b[0m\u001b[0;34m)\u001b[0m\u001b[0;34m\u001b[0m\u001b[0m\n\u001b[1;32m     45\u001b[0m             \u001b[0mplayers_dict\u001b[0m\u001b[0;34m[\u001b[0m\u001b[0;34m'trb'\u001b[0m\u001b[0;34m]\u001b[0m \u001b[0;34m=\u001b[0m \u001b[0mstr_to_int\u001b[0m\u001b[0;34m(\u001b[0m\u001b[0mplayer\u001b[0m\u001b[0;34m[\u001b[0m\u001b[0;34m'trb'\u001b[0m\u001b[0;34m]\u001b[0m\u001b[0;34m)\u001b[0m\u001b[0;34m\u001b[0m\u001b[0m\n",
      "\u001b[0;31mKeyboardInterrupt\u001b[0m: "
     ]
    }
   ],
   "source": [
    "client = MongoClient()\n",
    "db = client.nba\n",
    "cursor = db.games.find()\n",
    "games = []\n",
    "teams = []\n",
    "players = []\n",
    "\n",
    "def str_to_int(val):\n",
    "    if isinstance(val, int):\n",
    "        return val\n",
    "    if len(val.strip()) == 0:\n",
    "        return 0\n",
    "    else:\n",
    "        return int(val.strip())\n",
    "\n",
    "def str_to_float(val):\n",
    "    if isinstance(val, float):\n",
    "        return val\n",
    "    if len(val.strip()) == 0:\n",
    "        return 0.0\n",
    "    else:\n",
    "        return float(val.strip())    \n",
    "    \n",
    "for game_id, document in enumerate(tqdm(cursor)):\n",
    "    game_dict = {\"date\":document['date'], 'game_id':game_id}\n",
    "    games.append(game_dict)\n",
    "    for team_index, team in enumerate(document['teams']):\n",
    "        team_dict = {}\n",
    "        team_dict['game_id'] = game_id\n",
    "        team_dict['team_index'] = team_index\n",
    "        team_dict['abbreviation'] = team['abbreviation']\n",
    "        team_dict['home'] = team['home']\n",
    "        team_dict['score'] = int(team['score'])\n",
    "        team_dict['name'] = team['name']\n",
    "        team_dict['won'] = team['won']\n",
    "        teams.append(team_dict)\n",
    "    for team_index, box in enumerate(document['box']):\n",
    "        for player in box['players']:\n",
    "            players_dict = {}\n",
    "            players_dict['game_id'] = game_id\n",
    "            players_dict['team_index'] = team_index\n",
    "            players_dict['player'] = player['player']\n",
    "            players_dict['ft_pct'] = str_to_float(player['ft_pct'])\n",
    "            players_dict['fg3a'] = str_to_int(player['fg3a'])\n",
    "            players_dict['trb'] = str_to_int(player['trb'])\n",
    "            players_dict['ft'] = str_to_int(player['ft'])\n",
    "            players_dict['ast'] = str_to_int(player['ast'])\n",
    "            players_dict['stl'] = str_to_int(player['stl'])\n",
    "            players_dict['pts'] = str_to_int(player['pts'])\n",
    "            players_dict['fg_pct'] = str_to_float(player['fg_pct'])\n",
    "            players_dict['tov'] = str_to_int(player['tov'])\n",
    "            players_dict['fg3'] = str_to_int(player['fg3'])\n",
    "            players_dict['fta'] = str_to_int(player['fta'])\n",
    "            players_dict['fg3_pct'] = str_to_float(player['fg3_pct'])\n",
    "            players_dict['pf'] = str_to_int(player['pf'])\n",
    "            players_dict['mp'] = str_to_int(player['mp'].split(\":\")[0])*60 + str_to_int(player['mp'].split(\":\")[1])\n",
    "            players_dict['blk'] = str_to_int(player['blk'])\n",
    "            players_dict['fg'] = str_to_int(player['fg'])\n",
    "            players_dict['drb'] = str_to_int(player['drb'])\n",
    "            players_dict['orb'] = str_to_int(player['orb'])\n",
    "            players_dict['fga'] = str_to_int(player['fga'])\n",
    "            players.append(players_dict)"
   ]
  },
  {
   "cell_type": "code",
   "execution_count": null,
   "metadata": {
    "collapsed": false
   },
   "outputs": [],
   "source": [
    "players_df = pd.DataFrame(players)\n",
    "players_df = players_df.set_index(['game_id'])\n",
    "games_df = pd.DataFrame(games)\n",
    "teams_df = pd.DataFrame(teams)\n",
    "players_df = players_df.join(games_df)\n",
    "players_df = players_df.set_index(['game_id', 'team_index'])\n",
    "teams_df = teams_df.set_index(['game_id', 'team_index'])\n",
    "players_df = players_df.join(teams_df)"
   ]
  },
  {
   "cell_type": "code",
   "execution_count": null,
   "metadata": {
    "collapsed": true
   },
   "outputs": [],
   "source": [
    "def draft_kings_score(row):\n",
    "    score = (row['pts']*1.0) + (row['fg3']*0.5) +  (row['trb']*1.25) + (row['ast']*1.5) \n",
    "    score += (row['stl']*2.0) + (row['blk']*2.0) + (row['tov']*-0.5)\n",
    "    doubles = 0\n",
    "    if row['pts'] > 10:\n",
    "        doubles += 1\n",
    "    if row['trb'] > 10:\n",
    "        doubles += 1\n",
    "    if row['ast'] > 10:\n",
    "        doubles += 1\n",
    "    if row['blk'] > 10:\n",
    "        doubles += 1\n",
    "    if row['stl'] > 10:\n",
    "        doubles += 1\n",
    "    # double double\n",
    "    if doubles == 2:\n",
    "        score += 1.5\n",
    "    # triple double\n",
    "    if doubles == 3:\n",
    "        score + 3\n",
    "    return score    \n",
    "\n",
    "players_df['dk_fpts'] = players_df.apply(lambda row:  draft_kings_score(row), axis=1)\n",
    "players_df['year'] = players_df['date'].map(lambda x: x.year)"
   ]
  },
  {
   "cell_type": "code",
   "execution_count": null,
   "metadata": {
    "collapsed": false
   },
   "outputs": [],
   "source": [
    "player_min_dates = {}\n",
    "groups = players_df.groupby(by=['player'])\n",
    "for name, group in groups:\n",
    "    player_min_dates[name] = group['date'].min()"
   ]
  },
  {
   "cell_type": "code",
   "execution_count": null,
   "metadata": {
    "collapsed": false
   },
   "outputs": [],
   "source": [
    "def get_player_season(row):\n",
    "    date = row['date']\n",
    "    min_date = player_min_dates[row['player']]\n",
    "    diff = date - min_date\n",
    "    return diff.total_seconds()/3600./24./365.\n",
    "\n",
    "players_df['years_in_league'] = players_df.apply(lambda row: get_player_season(row), axis=1)"
   ]
  },
  {
   "cell_type": "code",
   "execution_count": null,
   "metadata": {
    "collapsed": false
   },
   "outputs": [],
   "source": [
    "plt.hist(players_df['dk_fpts'].values, bins=25)"
   ]
  },
  {
   "cell_type": "code",
   "execution_count": null,
   "metadata": {
    "collapsed": true
   },
   "outputs": [],
   "source": [
    "players_df = players_df.reset_index()\n",
    "groups = players_df.groupby(by=['player'])"
   ]
  },
  {
   "cell_type": "code",
   "execution_count": null,
   "metadata": {
    "collapsed": false
   },
   "outputs": [],
   "source": [
    "def get_flattened_columns(prefix, pivot_table):    \n",
    "    cols = []\n",
    "    col_dict = {}\n",
    "    for i, (col, gid) in enumerate(pivot_table.columns.tolist()):\n",
    "        if gid not in col_dict:\n",
    "            col_dict[gid] = str(i)\n",
    "        cols.append(prefix+col_dict[gid]+\"_\"+col)\n",
    "    return cols\n",
    "\n",
    "features = pd.DataFrame()\n",
    "\n",
    "for name, group in tqdm(groups):\n",
    "    group = group.sort(['game_id'], ascending=[False])\n",
    "    try:\n",
    "        for idx, row in group.iterrows():\n",
    "            current_fpts = row['dk_fpts']\n",
    "    #         print row['game_id'], current_fpts\n",
    "            groups_lt = group[group['game_id'] < row['game_id']][0:10]\n",
    "    #         print groups_lt\n",
    "            if len(groups_lt) >= 10:\n",
    "                player_games_pivot = groups_lt.pivot(index='player', columns='game_id')\n",
    "                cols = player_games_pivot.columns.tolist()\n",
    "                cols = sorted(cols, reverse=True)\n",
    "                player_games_pivot = player_games_pivot[cols]\n",
    "                player_games_pivot['current_fpts'] = current_fpts\n",
    "                pivot = player_games_pivot[['current_fpts', 'dk_fpts', 'year', 'years_in_league']]\n",
    "    #             print pivot\n",
    "                cols = get_flattened_columns(\"\", pivot)\n",
    "                pivot.columns = cols\n",
    "#                 print pivot\n",
    "#                 break\n",
    "                features = pd.concat([features, pivot])\n",
    "    except Exception as e:\n",
    "        print e\n",
    "#             print features\n",
    "#     break"
   ]
  },
  {
   "cell_type": "code",
   "execution_count": null,
   "metadata": {
    "collapsed": false
   },
   "outputs": [],
   "source": [
    "features"
   ]
  },
  {
   "cell_type": "code",
   "execution_count": null,
   "metadata": {
    "collapsed": false
   },
   "outputs": [],
   "source": [
    "features.to_csv(\"/Users/jostheimer/workspace/kaggle/data/nba/features_10.csv\")"
   ]
  },
  {
   "cell_type": "code",
   "execution_count": null,
   "metadata": {
    "collapsed": true
   },
   "outputs": [],
   "source": [
    "features_save = features.copy(deep=True)"
   ]
  },
  {
   "cell_type": "code",
   "execution_count": 4,
   "metadata": {
    "collapsed": true
   },
   "outputs": [],
   "source": [
    "features = pd.read_csv(\"/Users/jostheimer/workspace/kaggle/data/nba/features_10.csv\", index_col=[0])"
   ]
  },
  {
   "cell_type": "code",
   "execution_count": null,
   "metadata": {
    "collapsed": false
   },
   "outputs": [],
   "source": [
    "if '0_current_fpts' in features.columns:\n",
    "    targets = features['0_current_fpts']\n",
    "    features = features.drop(['0_current_fpts'], axis=1)\n",
    "\n",
    "x_train, x_test, y_train, y_test = train_test_split(features, targets, test_size=0.3, random_state=42)\n",
    "\n",
    "# clf = GradientBoostingRegressor(n_estimators=100, learning_rate=1.0, max_depth=1, random_state=0)\n",
    "\n",
    "cfr = ExtraTreesRegressor(\n",
    "    oob_score = True, bootstrap=True, verbose = 1, max_features = len(features.columns), n_estimators = 10000, min_samples_leaf = 1,\n",
    "    n_jobs=8,\n",
    "    random_state=0,\n",
    ")\n",
    "cfr.fit(x_train, y_train)\n",
    "\n"
   ]
  },
  {
   "cell_type": "code",
   "execution_count": null,
   "metadata": {
    "collapsed": false
   },
   "outputs": [],
   "source": [
    "predictions = cfr.predict(x_test)\n",
    "x_test['prediction'] = predictions\n",
    "# predictions = inverse_box_cox(predictions,lambda_, min_target)\n",
    "plt.scatter(y_test, predictions)\n",
    "plt.show()\n",
    "print \"mean_absolute_error\", mean_absolute_error(y_test, predictions)\n",
    "print \"mean_squared_error\", mean_squared_error(y_test, predictions)\n",
    "print \"explained_variance\", explained_variance_score(y_test, predictions)\n",
    "print \"median_absolute_error\", median_absolute_error(y_test, predictions)\n",
    "print \"r2_score\", r2_score(y_test, predictions)"
   ]
  },
  {
   "cell_type": "code",
   "execution_count": null,
   "metadata": {
    "collapsed": false
   },
   "outputs": [],
   "source": [
    "print \"Features sorted by their score:\"\n",
    "sorted_features =  sorted(zip(map(lambda x: round(x, 4), cfr.feature_importances_), x_train.columns), \n",
    "             reverse=True)\n",
    "for sorted_feat in sorted_features:\n",
    "    print sorted_feat"
   ]
  },
  {
   "cell_type": "code",
   "execution_count": null,
   "metadata": {
    "collapsed": true
   },
   "outputs": [],
   "source": []
  }
 ],
 "metadata": {
  "kernelspec": {
   "display_name": "Python 2",
   "language": "python",
   "name": "python2"
  },
  "language_info": {
   "codemirror_mode": {
    "name": "ipython",
    "version": 2
   },
   "file_extension": ".py",
   "mimetype": "text/x-python",
   "name": "python",
   "nbconvert_exporter": "python",
   "pygments_lexer": "ipython2",
   "version": "2.7.10"
  }
 },
 "nbformat": 4,
 "nbformat_minor": 0
}
