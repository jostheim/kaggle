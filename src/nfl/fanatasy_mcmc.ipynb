{
 "cells": [
  {
   "cell_type": "code",
   "execution_count": 1,
   "metadata": {
    "collapsed": true
   },
   "outputs": [],
   "source": [
    "%matplotlib inline\n",
    "import pandas as pd\n",
    "import pylab as p\n",
    "import matplotlib.pyplot as plt\n",
    "import numpy as np\n",
    "import scipy\n",
    "import random\n",
    "import time\n",
    "from multiprocessing import Pool\n",
    "from scipy.stats import boxcox\n",
    "import matplotlib\n",
    "matplotlib.style.use('ggplot')"
   ]
  },
  {
   "cell_type": "code",
   "execution_count": 2,
   "metadata": {
    "collapsed": true
   },
   "outputs": [],
   "source": [
    "core_df = pd.read_csv('/Users/jostheim/workspace/kaggle/data/nfl/NFLData_2000-2012/CORE.csv')\n",
    "game_df = pd.read_csv('/Users/jostheim/workspace/kaggle/data/nfl/NFLData_2000-2012/GAMES.csv')\n",
    "player_df = pd.read_csv('/Users/jostheim/workspace/kaggle/data/nfl/NFLData_2000-2012/PLAYERS.csv', index_col=[0])\n",
    "team_df = pd.read_csv('/Users/jostheim/workspace/kaggle/data/nfl/NFLData_2000-2012/TEAM.csv', index_col=[0])\n",
    "plays_df = pd.read_csv('/Users/jostheim/workspace/kaggle/data/nfl/NFLData_2000-2012/CORE.csv', index_col=[1])\n",
    "pass_df = pd.read_csv('/Users/jostheim/workspace/kaggle/data/nfl/NFLData_2000-2012/PASS.csv', index_col=[0])\n",
    "rush_df = pd.read_csv('/Users/jostheim/workspace/kaggle/data/nfl/NFLData_2000-2012/RUSH.csv', index_col=[0])\n",
    "pass_df = pass_df.join(plays_df)\n",
    "rush_df = rush_df.join(plays_df)\n",
    "conv_df = pd.read_csv('/Users/jostheim/workspace/kaggle/data/nfl/NFLData_2000-2012/CONVS.csv', index_col=[0])\n",
    "conv_df = conv_df.join(plays_df['GID'])\n",
    "kickoff_df = pd.read_csv('/Users/jostheim/workspace/kaggle/data/nfl/NFLData_2000-2012/KICKOFFS.csv', index_col=[0])\n",
    "kickoff_df = kickoff_df.join(plays_df)\n",
    "\n",
    "punt_df = pd.read_csv('/Users/jostheim/workspace/kaggle/data/nfl/NFLData_2000-2012/PUNTS.csv', index_col=[0])\n",
    "punt_df = punt_df.join(plays_df)\n",
    "tackle_df = pd.read_csv('/Users/jostheim/workspace/kaggle/data/nfl/NFLData_2000-2012/TACKLES.csv', index_col=[0])\n",
    "intercept_df = pd.read_csv('/Users/jostheim/workspace/kaggle/data/nfl/NFLData_2000-2012/INTS.csv', index_col=[0])\n",
    "fumble_df = pd.read_csv('/Users/jostheim/workspace/kaggle/data/nfl/NFLData_2000-2012/FUMBLES.csv', index_col=[0])\n",
    "tackle_df = tackle_df.join(plays_df)\n",
    "intercept_df = intercept_df.join(plays_df)\n",
    "fumble_df = fumble_df.join(plays_df)"
   ]
  },
  {
   "cell_type": "code",
   "execution_count": 3,
   "metadata": {
    "collapsed": true
   },
   "outputs": [],
   "source": [
    "#win_orig_df = win_orig_df.join(game_df)\n",
    "offense_df = pd.read_csv('/Users/jostheim/workspace/kaggle/data/nfl/NFLData_2000-2012/OFFENSE.csv', index_col=[2])\n",
    "offense_df['PLAYER'] = offense_df.index\n",
    "defense_df = pd.read_csv('/Users/jostheim/workspace/kaggle/data/nfl/NFLData_2000-2012/DEFENSE.csv', index_col=[2])\n",
    "defense_df['PLAYER'] = defense_df.index\n",
    "players_df = pd.read_csv('/Users/jostheim/workspace/kaggle/data/nfl/NFLData_2000-2012/PLAYERS.csv', index_col=[0])\n",
    "offense_df = offense_df.join(players_df['POS1'])\n",
    "offense_df = offense_df.rename(columns={'POS1':'POS'})\n",
    "offense_df.set_index('GID', inplace=True)\n",
    "offense_df = offense_df.join(game_df['OU'])\n",
    "offense_df = offense_df.join(game_df['SPRV'])\n",
    "offense_df['GID'] = offense_df.index\n",
    "offense_df.set_index('PLAYER', inplace=True)\n",
    "offense_df['PLAYER'] = offense_df.index\n",
    "defense_df = defense_df.join(players_df['POS1'])\n",
    "defense_df = defense_df.rename(columns={'POS1':'POS'})\n",
    "\n",
    "players_df['player_id'] = players_df.index\n",
    "# offense_df = offense_df.join(players_df)\n",
    "# defense_df = defense_df.join(players_df)"
   ]
  },
  {
   "cell_type": "code",
   "execution_count": 4,
   "metadata": {
    "collapsed": true
   },
   "outputs": [],
   "source": [
    "pass_groups = pass_df.groupby(['GID', 'PSR']) \n",
    "snp_list = []\n",
    "for name, group in pass_groups:\n",
    "    snp_list.append({\"GID\":name[0], \"PLAYER\":name[1], \"PASSER_SNP\":len(group)})\n",
    "snp_df = pd.DataFrame(snp_list)\n",
    "snp_df = snp_df.fillna(0)\n",
    "offense_df = pd.merge(offense_df, snp_df, how='left', on=['GID', 'PLAYER'])\n",
    "\n",
    "pass_groups = pass_df.groupby(['GID', 'TRG']) \n",
    "snp_list = []\n",
    "for name, group in pass_groups:\n",
    "    snp_list.append({\"GID\":name[0], \"PLAYER\":name[1], \"TRG_SNP\":len(group)})\n",
    "snp_df = pd.DataFrame(snp_list)\n",
    "snp_df = snp_df.fillna(0)\n",
    "offense_df = pd.merge(offense_df, snp_df, how='left', on=['GID', 'PLAYER'])\n",
    "\n",
    "rush_groups = rush_df.groupby(['GID', 'BC']) \n",
    "snp_list = []\n",
    "for name, group in rush_groups:\n",
    "    snp_list.append({\"GID\":name[0], \"PLAYER\":name[1], \"BC_SNP\":len(group)})\n",
    "snp_df = pd.DataFrame(snp_list)\n",
    "snp_df = snp_df.fillna(0)\n",
    "offense_df = pd.merge(offense_df, snp_df, how='left', on=['GID', 'PLAYER'])\n",
    "\n",
    "fumble_groups = fumble_df.groupby(['GID', 'FRCV'])\n",
    "fumble_list = []\n",
    "for name, group in fumble_groups:\n",
    "    fumble_list.append({\"GID\":name[0], \"PLAYER\":name[1], \"FRCV\":len(group)})\n",
    "fumble_rcv_df = pd.DataFrame(fumble_list)\n",
    "fumble_rcv_df = fumble_rcv_df.fillna(0)\n",
    "offense_df = pd.merge(offense_df, fumble_rcv_df, how='left', on=['GID', 'PLAYER'])\n",
    "\n",
    "run_conv_groups = conv_df[conv_df['CONV'] == 'Y'].groupby(['GID', 'BC'])\n",
    "run_conv_list = []\n",
    "for name, group in run_conv_groups:\n",
    "    run_conv_list.append({\"GID\":name[0], \"PLAYER\":name[1], \"2PTCONV_BC\":len(group)})\n",
    "run_conv_df = pd.DataFrame(run_conv_list)\n",
    "run_conv_df = run_conv_df.fillna(0)\n",
    "offense_df = pd.merge(offense_df, run_conv_df, how='left', on=['GID', 'PLAYER'])\n",
    "\n",
    "\n",
    "passer_conv_groups = conv_df[conv_df['CONV'] == 'Y'].groupby(['GID', 'PSR'])\n",
    "passer_conv_list = []\n",
    "for name, group in passer_conv_groups:\n",
    "    passer_conv_list.append({\"GID\":name[0], \"PLAYER\":name[1], \"2PTCONV_PSR\":len(group)})\n",
    "passer_conv_df = pd.DataFrame(passer_conv_list)\n",
    "passer_conv_df = passer_conv_df.fillna(0)\n",
    "offense_df = pd.merge(offense_df, passer_conv_df, how='left', on=['GID', 'PLAYER'])\n",
    "\n",
    "passertrg_conv_groups = conv_df[conv_df['CONV'] == 'Y'].groupby(['GID', 'TRG'])\n",
    "passertrg_conv_list = []\n",
    "for name, group in passertrg_conv_groups:\n",
    "    passertrg_conv_list.append({\"GID\":name[0], \"PLAYER\":name[1], \"2PTCONV_TRG\":len(group)})\n",
    "passertrg_conv_df = pd.DataFrame(passertrg_conv_list)\n",
    "passertrg_conv_df = passertrg_conv_df.fillna(0)\n",
    "offense_df = pd.merge(offense_df, passertrg_conv_df, how='left', on=['GID', 'PLAYER'])\n",
    "\n",
    "punt_groups = punt_df[punt_df['PTSO'] == 6].groupby(['GID', 'PR'])\n",
    "punt_list = []\n",
    "for name, group in punt_groups:\n",
    "    punt_list.append({\"GID\":name[0], \"PLAYER\":name[1], \"PUNT_TDRET\":len(group)})\n",
    "punt_df = pd.DataFrame(punt_list)\n",
    "punt_df = punt_df.fillna(0)\n",
    "offense_df = pd.merge(offense_df, punt_df, how='left', on=['GID', 'PLAYER'])\n",
    "\n",
    "kickoff_groups = kickoff_df[kickoff_df['PTSO'] == 6].groupby(['GID', 'KR'])\n",
    "kickoff_list = []\n",
    "for name, group in kickoff_groups:\n",
    "    kickoff_list.append({\"GID\":name[0], \"PLAYER\":name[1], \"KICKOFF_TDRET\":len(group)})\n",
    "kickoff_df = pd.DataFrame(kickoff_list)\n",
    "kickoff_df = kickoff_df.fillna(0)\n",
    "offense_df = pd.merge(offense_df, kickoff_df, how='left', on=['GID', 'PLAYER'])\n",
    "\n",
    "offense_df['TDRET'] = offense_df['PUNT_TDRET'] + offense_df['KICKOFF_TDRET']\n",
    "\n",
    "offense_df['2PTCONV'] = offense_df['2PTCONV_BC'] + offense_df['2PTCONV_PSR'] + offense_df['2PTCONV_TRG']\n",
    "\n",
    "offense_df['SNP'] = offense_df['BC_SNP'] + offense_df['TRG_SNP'] +offense_df['PASSER_SNP']\n"
   ]
  },
  {
   "cell_type": "code",
   "execution_count": 5,
   "metadata": {
    "collapsed": true
   },
   "outputs": [],
   "source": [
    "tackle_groups = tackle_df.groupby(['GID', 'TCK']) \n",
    "snp_list = []\n",
    "for name, group in tackle_groups:\n",
    "    snp_list.append({\"GID\":name[0], \"PLAYER\":name[1], \"TACKLE_SNP\":len(group)})\n",
    "snp_df = pd.DataFrame(snp_list)\n",
    "snp_df = snp_df.fillna(0)\n",
    "defense_df = pd.merge(defense_df, snp_df, how='left', on=['GID', 'PLAYER'])\n",
    "\n",
    "intercept_groups = intercept_df.groupby(['GID', 'INT']) \n",
    "snp_list = []\n",
    "for name, group in intercept_groups:\n",
    "    snp_list.append({\"GID\":name[0], \"PLAYER\":name[1], \"INTERCEPT_SNP\":len(group)})\n",
    "snp_df = pd.DataFrame(snp_list)\n",
    "snp_df = snp_df.fillna(0)\n",
    "defense_df = pd.merge(defense_df, snp_df, how='left', on=['GID', 'PLAYER'])\n",
    "\n",
    "fumble_groups = fumble_df.groupby(['GID', 'FRCV']) \n",
    "snp_list = []\n",
    "for name, group in fumble_groups:\n",
    "    snp_list.append({\"GID\":name[0], \"PLAYER\":name[1], \"FUMBLE_SNP\":len(group)})\n",
    "snp_df = pd.DataFrame(snp_list)\n",
    "snp_df = snp_df.fillna(0)\n",
    "defense_df = pd.merge(defense_df, snp_df, how='left', on=['GID', 'PLAYER'])\n",
    "\n",
    "defense_df['SNP'] = defense_df['TACKLE_SNP'] + defense_df['INTERCEPT_SNP'] + defense_df['FUMBLE_SNP']"
   ]
  },
  {
   "cell_type": "code",
   "execution_count": 6,
   "metadata": {
    "collapsed": true
   },
   "outputs": [],
   "source": [
    "def draft_kings_score(row):\n",
    "    score = (row['TDP']*4.0) + (row['PY']*0.04) + (3 * (1.0 if row['PY'] > 300 else 0.0)) \n",
    "    score += (-1*row['INT']) + (0.1*row['RY']) + (6.0*row['TDR']) \n",
    "    score += (3*(1.0 if row['RY'] > 100 else 0.0)) + (0.1 * row['RECY']) + (1 * row['REC']) + (6 * row['TDRE'])\n",
    "    score += (3 *(1.0 if row['RECY'] > 100 else 0.0))\n",
    "#     score += (6 * row['TDRET']) + (-1 * row['FUML']) + (6 * row['FRCV']) + (2 * row['2PTCONV']) \n",
    "    return score\n",
    "\n",
    "offense_df['GID_tmp'] = offense_df['GID']\n",
    "offense_df['TEAM_tmp'] = offense_df['TEAM']\n",
    "offense_df = offense_df.set_index(['GID', 'TEAM'])\n",
    "offense_df['GID'] = offense_df['GID_tmp']\n",
    "offense_df['TEAM'] = offense_df['TEAM_tmp']\n",
    "\n",
    "offense_df = offense_df.fillna(0.0)\n",
    "\n",
    "offense_df['dk_fpts'] = offense_df.apply(lambda row:  draft_kings_score(row), axis=1)\n",
    "\n",
    "\n",
    "defense_df['GID_tmp'] = defense_df['GID']\n",
    "defense_df['TEAM_tmp'] = defense_df['TEAM']\n",
    "defense_df = defense_df.set_index(['GID', 'TEAM'])\n",
    "defense_df['GID'] = defense_df['GID_tmp']\n",
    "defense_df['TEAM'] = defense_df['TEAM_tmp']\n",
    "\n",
    "del offense_df['TEAM_tmp']\n",
    "del offense_df['GID_tmp']\n",
    "del defense_df['TEAM_tmp']\n",
    "del defense_df['GID_tmp']"
   ]
  },
  {
   "cell_type": "code",
   "execution_count": 7,
   "metadata": {
    "collapsed": false
   },
   "outputs": [
    {
     "name": "stdout",
     "output_type": "stream",
     "text": [
      "Index([u'UID', u'PA', u'PC', u'PY', u'INT', u'TDP', u'RA', u'SRA', u'RY',\n",
      "       u'TDR', u'TRG', u'REC', u'RECY', u'TDRE', u'FUML', u'PENY', u'FPTS',\n",
      "       u'GAME', u'SEAS', u'YEAR', u'POS', u'OU', u'SPRV', u'PLAYER',\n",
      "       u'PASSER_SNP', u'TRG_SNP', u'BC_SNP', u'FRCV', u'2PTCONV_BC',\n",
      "       u'2PTCONV_PSR', u'2PTCONV_TRG', u'PUNT_TDRET', u'KICKOFF_TDRET',\n",
      "       u'TDRET', u'2PTCONV', u'SNP', u'GID', u'TEAM', u'dk_fpts'],\n",
      "      dtype='object')\n"
     ]
    }
   ],
   "source": [
    "print offense_df.columns\n",
    "offense_df['PLAYER'] = offense_df.index\n",
    "offense_df.set_index('UID', inplace=True)"
   ]
  },
  {
   "cell_type": "code",
   "execution_count": null,
   "metadata": {
    "collapsed": false
   },
   "outputs": [],
   "source": [
    "offense_per_player_groups = offense_df.groupby(['PLAYER'])\n",
    "for name, group in offense_per_player_groups:\n",
    "    print len(group)\n",
    "print len(offense_per_player_groups)"
   ]
  },
  {
   "cell_type": "code",
   "execution_count": null,
   "metadata": {
    "collapsed": false
   },
   "outputs": [],
   "source": [
    "offense_df[offense_df['dk_fpts'] != 0]['dk_fpts'].plot(kind=\"hist\", bins=200)\n",
    "plt.show()"
   ]
  },
  {
   "cell_type": "code",
   "execution_count": 9,
   "metadata": {
    "collapsed": false
   },
   "outputs": [
    {
     "name": "stdout",
     "output_type": "stream",
     "text": [
      "Warning: patsy not found, not importing glm submodule.\n"
     ]
    }
   ],
   "source": [
    "import itertools\n",
    "import matplotlib.pyplot as plt\n",
    "import numpy as np\n",
    "import pandas as pd\n",
    "import pymc3 as pm\n",
    "import scipy\n",
    "import scipy.stats as stats\n",
    "\n",
    "from IPython.display import Image\n",
    "from sklearn import preprocessing\n"
   ]
  },
  {
   "cell_type": "code",
   "execution_count": null,
   "metadata": {
    "collapsed": false
   },
   "outputs": [],
   "source": [
    "indiv_traces = {}\n",
    "\n",
    "# Convert categorical variables to integer\n",
    "le = preprocessing.LabelEncoder()\n",
    "players_idx = le.fit_transform(offense_df['PLAYER'])\n",
    "players = le.classes_\n",
    "n_players = len(players)\n",
    "\n",
    "model = pm.MCMC()\n",
    "for p in players:\n",
    "    alpha = pm.Uniform('alpha', lower=0, upper=100)\n",
    "    mu = pm.Uniform('mu', lower=0, upper=100)\n",
    "\n",
    "    data = offense_df[offense_df['PLAYER'] == p]['dk_fpts'].values\n",
    "    y_est = pm.Normal('y_est', mu=mu, tau=alpha, observed=data)\n",
    "\n",
    "    y_pred = pm.Normal('y_pred', mu=mu, tau=alpha)\n",
    "\n",
    "    start = pm.find_MAP()\n",
    "    step = pm.Metropolis()\n",
    "    trace = pm.sample(20000, step, start=start, progressbar=True)\n",
    "\n",
    "    indiv_traces[p] = trace"
   ]
  },
  {
   "cell_type": "code",
   "execution_count": null,
   "metadata": {
    "collapsed": false
   },
   "outputs": [],
   "source": [
    "colors = ['#348ABD', '#A60628', '#7A68A6', '#467821', '#D55E00', \n",
    "          '#CC79A7', '#56B4E9', '#009E73', '#F0E442', '#0072B2']\n",
    "fig, axs = plt.subplots(3,2, figsize=(12, 6))\n",
    "axs = axs.ravel()\n",
    "y_left_max = 2\n",
    "y_right_max = 2000\n",
    "x_lim = 60\n",
    "ix = [3,4,6]\n",
    "\n",
    "for i, j, p in zip([0,1,2], [0,2,4], players[ix]):\n",
    "    axs[j].set_title('Observed: %s' % p)\n",
    "    axs[j].hist(offense_df[offense_df['PLAYER']==p]['dk_fpts'].values, range=[0, x_lim], bins=x_lim, histtype='stepfilled')\n",
    "    axs[j].set_ylim([0, y_left_max])\n",
    "\n",
    "for i, j, p in zip([0,1,2], [1,3,5], players[ix]):\n",
    "    axs[j].set_title('Posterior predictive distribution: %s' % p)\n",
    "    axs[j].hist(indiv_traces[p].get_values('y_pred'), range=[0, x_lim], bins=x_lim, histtype='stepfilled', color=colors[1])\n",
    "    axs[j].set_ylim([0, y_right_max])\n",
    "\n",
    "axs[4].set_xlabel('Draft Kings Fpts')\n",
    "axs[5].set_xlabel('Draft Kings Fpts')\n",
    "\n",
    "plt.tight_layout()"
   ]
  },
  {
   "cell_type": "code",
   "execution_count": null,
   "metadata": {
    "collapsed": false
   },
   "outputs": [],
   "source": [
    "combined_y_pred = np.concatenate([v.get_values('y_pred') for k, v in indiv_traces.items()])\n",
    "\n",
    "x_lim = 60\n",
    "y_pred = trace.get_values('y_pred')\n",
    "\n",
    "fig = plt.figure(figsize=(12,6))\n",
    "fig.add_subplot(211)\n",
    "\n",
    "fig.add_subplot(211)\n",
    "\n",
    "_ = plt.hist(combined_y_pred, range=[0, x_lim], bins=x_lim, histtype='stepfilled', color=colors[1])   \n",
    "_ = plt.xlim(1, x_lim)\n",
    "_ = plt.ylim(0, 100000)\n",
    "_ = plt.ylabel('Frequency')\n",
    "_ = plt.title('Posterior predictive distribution')\n",
    "\n",
    "fig.add_subplot(212)\n",
    "\n",
    "_ = plt.hist(offense_df['dk_fpts'].values, range=[0, x_lim], bins=x_lim, histtype='stepfilled')\n",
    "_ = plt.xlim(0, x_lim)\n",
    "_ = plt.xlabel('Draft Kings Fpts')\n",
    "_ = plt.ylim(0, 10000)\n",
    "_ = plt.ylabel('Frequency')\n",
    "_ = plt.title('Distribution of observed data')\n",
    "\n",
    "plt.tight_layout()"
   ]
  },
  {
   "cell_type": "code",
   "execution_count": null,
   "metadata": {
    "collapsed": true
   },
   "outputs": [],
   "source": [
    "offense_df.to_csv('/Users/jostheim/workspace/kaggle/src/nfl/bug_report.csv', columns=['PLAYER', 'dk_fpts'])\n"
   ]
  },
  {
   "cell_type": "code",
   "execution_count": 21,
   "metadata": {
    "collapsed": false
   },
   "outputs": [
    {
     "name": "stdout",
     "output_type": "stream",
     "text": [
      "6910 67266\n"
     ]
    },
    {
     "data": {
      "image/png": "[encoded data removed]",
      "text/plain": [
       "<matplotlib.figure.Figure at 0x13511f490>"
      ]
     },
     "metadata": {},
     "output_type": "display_data"
    }
   ],
   "source": [
    "# Convert categorical variables to integer\n",
    "import random\n",
    "offense_df = pd.read_csv('/Users/jostheim/workspace/kaggle/src/nfl/bug_report.csv', index_col=0)\n",
    "offense_df = offense_df[offense_df['dk_fpts'] >= 0]\n",
    "filtered_offense_df = offense_df#.ix[random.sample(offense_df.index, 1000)]\n",
    "filtered_offense_df.fillna(0.0)\n",
    "le = preprocessing.LabelEncoder()\n",
    "players_idx = le.fit_transform(filtered_offense_df['PLAYER'])\n",
    "players = le.classes_\n",
    "n_players = len(players)\n",
    "print n_players, len(filtered_offense_df)\n",
    "offense_df[offense_df['dk_fpts'] != 0]['dk_fpts'].plot(kind=\"hist\", bins=200)\n",
    "plt.show()"
   ]
  },
  {
   "cell_type": "code",
   "execution_count": 22,
   "metadata": {
    "collapsed": false
   },
   "outputs": [
    {
     "ename": "KeyboardInterrupt",
     "evalue": "",
     "output_type": "error",
     "traceback": [
      "\u001b[0;31m---------------------------------------------------------------------------\u001b[0m",
      "\u001b[0;31mKeyboardInterrupt\u001b[0m                         Traceback (most recent call last)",
      "\u001b[0;32m<ipython-input-22-8528a5f1ec8b>\u001b[0m in \u001b[0;36m<module>\u001b[0;34m()\u001b[0m\n\u001b[1;32m     20\u001b[0m                                  shape=filtered_offense_df['PLAYER'].shape)\n\u001b[1;32m     21\u001b[0m \u001b[0;34m\u001b[0m\u001b[0m\n\u001b[0;32m---> 22\u001b[0;31m     \u001b[0mstart\u001b[0m \u001b[0;34m=\u001b[0m \u001b[0mpm\u001b[0m\u001b[0;34m.\u001b[0m\u001b[0mfind_MAP\u001b[0m\u001b[0;34m(\u001b[0m\u001b[0mdisp\u001b[0m\u001b[0;34m=\u001b[0m\u001b[0mTrue\u001b[0m\u001b[0;34m)\u001b[0m\u001b[0;34m\u001b[0m\u001b[0m\n\u001b[0m\u001b[1;32m     23\u001b[0m     \u001b[0mstep\u001b[0m \u001b[0;34m=\u001b[0m \u001b[0mpm\u001b[0m\u001b[0;34m.\u001b[0m\u001b[0mMetropolis\u001b[0m\u001b[0;34m(\u001b[0m\u001b[0;34m)\u001b[0m\u001b[0;34m\u001b[0m\u001b[0m\n\u001b[1;32m     24\u001b[0m     \u001b[0mhierarchical_trace\u001b[0m \u001b[0;34m=\u001b[0m \u001b[0mpm\u001b[0m\u001b[0;34m.\u001b[0m\u001b[0msample\u001b[0m\u001b[0;34m(\u001b[0m\u001b[0;36m100000\u001b[0m\u001b[0;34m,\u001b[0m \u001b[0mstep\u001b[0m\u001b[0;34m,\u001b[0m \u001b[0mstart\u001b[0m\u001b[0;34m=\u001b[0m\u001b[0mstart\u001b[0m\u001b[0;34m,\u001b[0m \u001b[0mprogressbar\u001b[0m\u001b[0;34m=\u001b[0m\u001b[0mTrue\u001b[0m\u001b[0;34m)\u001b[0m\u001b[0;34m\u001b[0m\u001b[0m\n",
      "\u001b[0;32m/Users/jostheim/Virtualenvs/sidewire/lib/python2.7/site-packages/pymc3/tuning/starting.pyc\u001b[0m in \u001b[0;36mfind_MAP\u001b[0;34m(start, vars, fmin, return_raw, disp, model, *args, **kwargs)\u001b[0m\n\u001b[1;32m     79\u001b[0m     \u001b[0;32mif\u001b[0m \u001b[0;34m'fprime'\u001b[0m \u001b[0;32min\u001b[0m \u001b[0mgetargspec\u001b[0m\u001b[0;34m(\u001b[0m\u001b[0mfmin\u001b[0m\u001b[0;34m)\u001b[0m\u001b[0;34m.\u001b[0m\u001b[0margs\u001b[0m\u001b[0;34m:\u001b[0m\u001b[0;34m\u001b[0m\u001b[0m\n\u001b[1;32m     80\u001b[0m         r = fmin(logp_o, bij.map(\n\u001b[0;32m---> 81\u001b[0;31m             start), fprime=grad_logp_o, disp=disp, *args, **kwargs)\n\u001b[0m\u001b[1;32m     82\u001b[0m     \u001b[0;32melse\u001b[0m\u001b[0;34m:\u001b[0m\u001b[0;34m\u001b[0m\u001b[0m\n\u001b[1;32m     83\u001b[0m         \u001b[0mr\u001b[0m \u001b[0;34m=\u001b[0m \u001b[0mfmin\u001b[0m\u001b[0;34m(\u001b[0m\u001b[0mlogp_o\u001b[0m\u001b[0;34m,\u001b[0m \u001b[0mbij\u001b[0m\u001b[0;34m.\u001b[0m\u001b[0mmap\u001b[0m\u001b[0;34m(\u001b[0m\u001b[0mstart\u001b[0m\u001b[0;34m)\u001b[0m\u001b[0;34m,\u001b[0m \u001b[0mdisp\u001b[0m\u001b[0;34m=\u001b[0m\u001b[0mdisp\u001b[0m\u001b[0;34m,\u001b[0m \u001b[0;34m*\u001b[0m\u001b[0margs\u001b[0m\u001b[0;34m,\u001b[0m \u001b[0;34m**\u001b[0m\u001b[0mkwargs\u001b[0m\u001b[0;34m)\u001b[0m\u001b[0;34m\u001b[0m\u001b[0m\n",
      "\u001b[0;32m/Users/jostheim/Virtualenvs/sidewire/lib/python2.7/site-packages/scipy/optimize/optimize.pyc\u001b[0m in \u001b[0;36mfmin_bfgs\u001b[0;34m(f, x0, fprime, args, gtol, norm, epsilon, maxiter, full_output, disp, retall, callback)\u001b[0m\n\u001b[1;32m    787\u001b[0m             'return_all': retall}\n\u001b[1;32m    788\u001b[0m \u001b[0;34m\u001b[0m\u001b[0m\n\u001b[0;32m--> 789\u001b[0;31m     \u001b[0mres\u001b[0m \u001b[0;34m=\u001b[0m \u001b[0m_minimize_bfgs\u001b[0m\u001b[0;34m(\u001b[0m\u001b[0mf\u001b[0m\u001b[0;34m,\u001b[0m \u001b[0mx0\u001b[0m\u001b[0;34m,\u001b[0m \u001b[0margs\u001b[0m\u001b[0;34m,\u001b[0m \u001b[0mfprime\u001b[0m\u001b[0;34m,\u001b[0m \u001b[0mcallback\u001b[0m\u001b[0;34m=\u001b[0m\u001b[0mcallback\u001b[0m\u001b[0;34m,\u001b[0m \u001b[0;34m**\u001b[0m\u001b[0mopts\u001b[0m\u001b[0;34m)\u001b[0m\u001b[0;34m\u001b[0m\u001b[0m\n\u001b[0m\u001b[1;32m    790\u001b[0m \u001b[0;34m\u001b[0m\u001b[0m\n\u001b[1;32m    791\u001b[0m     \u001b[0;32mif\u001b[0m \u001b[0mfull_output\u001b[0m\u001b[0;34m:\u001b[0m\u001b[0;34m\u001b[0m\u001b[0m\n",
      "\u001b[0;32m/Users/jostheim/Virtualenvs/sidewire/lib/python2.7/site-packages/scipy/optimize/optimize.pyc\u001b[0m in \u001b[0;36m_minimize_bfgs\u001b[0;34m(fun, x0, args, jac, callback, gtol, norm, eps, maxiter, disp, return_all, **unknown_options)\u001b[0m\n\u001b[1;32m    900\u001b[0m         \u001b[0mA1\u001b[0m \u001b[0;34m=\u001b[0m \u001b[0mI\u001b[0m \u001b[0;34m-\u001b[0m \u001b[0msk\u001b[0m\u001b[0;34m[\u001b[0m\u001b[0;34m:\u001b[0m\u001b[0;34m,\u001b[0m \u001b[0mnumpy\u001b[0m\u001b[0;34m.\u001b[0m\u001b[0mnewaxis\u001b[0m\u001b[0;34m]\u001b[0m \u001b[0;34m*\u001b[0m \u001b[0myk\u001b[0m\u001b[0;34m[\u001b[0m\u001b[0mnumpy\u001b[0m\u001b[0;34m.\u001b[0m\u001b[0mnewaxis\u001b[0m\u001b[0;34m,\u001b[0m \u001b[0;34m:\u001b[0m\u001b[0;34m]\u001b[0m \u001b[0;34m*\u001b[0m \u001b[0mrhok\u001b[0m\u001b[0;34m\u001b[0m\u001b[0m\n\u001b[1;32m    901\u001b[0m         \u001b[0mA2\u001b[0m \u001b[0;34m=\u001b[0m \u001b[0mI\u001b[0m \u001b[0;34m-\u001b[0m \u001b[0myk\u001b[0m\u001b[0;34m[\u001b[0m\u001b[0;34m:\u001b[0m\u001b[0;34m,\u001b[0m \u001b[0mnumpy\u001b[0m\u001b[0;34m.\u001b[0m\u001b[0mnewaxis\u001b[0m\u001b[0;34m]\u001b[0m \u001b[0;34m*\u001b[0m \u001b[0msk\u001b[0m\u001b[0;34m[\u001b[0m\u001b[0mnumpy\u001b[0m\u001b[0;34m.\u001b[0m\u001b[0mnewaxis\u001b[0m\u001b[0;34m,\u001b[0m \u001b[0;34m:\u001b[0m\u001b[0;34m]\u001b[0m \u001b[0;34m*\u001b[0m \u001b[0mrhok\u001b[0m\u001b[0;34m\u001b[0m\u001b[0m\n\u001b[0;32m--> 902\u001b[0;31m         Hk = numpy.dot(A1, numpy.dot(Hk, A2)) + (rhok * sk[:, numpy.newaxis] *\n\u001b[0m\u001b[1;32m    903\u001b[0m                                                  sk[numpy.newaxis, :])\n\u001b[1;32m    904\u001b[0m \u001b[0;34m\u001b[0m\u001b[0m\n",
      "\u001b[0;31mKeyboardInterrupt\u001b[0m: "
     ]
    }
   ],
   "source": [
    "import scipy\n",
    "with pm.Model() as model:\n",
    "    hyper_alpha_sd = pm.Uniform('hyper_alpha_sd', lower=0, upper=50, transform=None)\n",
    "    hyper_alpha_mu = pm.Uniform('hyper_alpha_mu', lower=0, upper=10, transform=None)\n",
    "    \n",
    "    hyper_mu_sd = pm.Uniform('hyper_mu_sd', lower=0, upper=50, transform=None)\n",
    "    hyper_mu_mu = pm.Uniform('hyper_mu_mu', lower=0, upper=60, transform=None)\n",
    "    \n",
    "    alpha = pm.Gamma('alpha', mu=hyper_alpha_mu, sd=hyper_alpha_sd, shape=n_players)\n",
    "    mu = pm.Gamma('mu', mu=hyper_mu_mu, sd=hyper_mu_sd, shape=n_players)\n",
    "    \n",
    "    y_est = pm.NegativeBinomial('y_est', \n",
    "                                mu=mu[players_idx], \n",
    "                                alpha=alpha[players_idx], \n",
    "                                observed=filtered_offense_df['dk_fpts'].values)\n",
    "    \n",
    "    y_pred = pm.NegativeBinomial('y_pred', \n",
    "                                 mu=mu[players_idx], \n",
    "                                 alpha=alpha[players_idx],\n",
    "                                 shape=filtered_offense_df['PLAYER'].shape)\n",
    "    \n",
    "    start = pm.find_MAP(disp=True)\n",
    "    step = pm.Metropolis()\n",
    "    hierarchical_trace = pm.sample(100000, step, start=start, progressbar=True)"
   ]
  },
  {
   "cell_type": "code",
   "execution_count": 20,
   "metadata": {
    "collapsed": false
   },
   "outputs": [
    {
     "data": {
      "image/png": "[encoded data removed]",
      "text/plain": [
       "<matplotlib.figure.Figure at 0x1450e00d0>"
      ]
     },
     "metadata": {},
     "output_type": "display_data"
    }
   ],
   "source": [
    "colors = ['#348ABD', '#A60628', '#7A68A6', '#467821', '#D55E00', \n",
    "          '#CC79A7', '#56B4E9', '#009E73', '#F0E442', '#0072B2']\n",
    "\n",
    "x_lim = 60\n",
    "y_pred = hierarchical_trace.get_values('y_pred')[::1000].ravel()\n",
    "\n",
    "fig = plt.figure(figsize=(12,6))\n",
    "fig.add_subplot(211)\n",
    "\n",
    "fig.add_subplot(211)\n",
    "\n",
    "_ = plt.hist(y_pred, range=[0, x_lim], bins=x_lim, histtype='stepfilled', color=colors[1])   \n",
    "_ = plt.xlim(1, x_lim)\n",
    "_ = plt.ylabel('Frequency')\n",
    "_ = plt.title('Posterior predictive distribution')\n",
    "\n",
    "fig.add_subplot(212)\n",
    "\n",
    "_ = plt.hist(offense_df['dk_fpts'].values, range=[0, x_lim], bins=x_lim, histtype='stepfilled')\n",
    "_ = plt.xlim(0, x_lim)\n",
    "_ = plt.xlabel('Draft Kings Fpts')\n",
    "_ = plt.ylim(0, 10000)\n",
    "_ = plt.ylabel('Frequency')\n",
    "_ = plt.title('Distribution of observed data')\n",
    "\n",
    "plt.tight_layout()"
   ]
  },
  {
   "cell_type": "code",
   "execution_count": null,
   "metadata": {
    "collapsed": false
   },
   "outputs": [],
   "source": [
    "_ = pm.traceplot(hierarchical_trace[:], \n",
    "                 vars=['y_pred', 'mu', 'alpha', 'hyper_mu_mu','hyper_mu_sd','hyper_alpha_mu', 'hyper_alpha_sd'])"
   ]
  },
  {
   "cell_type": "code",
   "execution_count": null,
   "metadata": {
    "collapsed": true
   },
   "outputs": [],
   "source": []
  },
  {
   "cell_type": "code",
   "execution_count": null,
   "metadata": {
    "collapsed": true
   },
   "outputs": [],
   "source": []
  },
  {
   "cell_type": "code",
   "execution_count": null,
   "metadata": {
    "collapsed": true
   },
   "outputs": [],
   "source": []
  },
  {
   "cell_type": "code",
   "execution_count": null,
   "metadata": {
    "collapsed": true
   },
   "outputs": [],
   "source": []
  },
  {
   "cell_type": "code",
   "execution_count": null,
   "metadata": {
    "collapsed": true
   },
   "outputs": [],
   "source": []
  },
  {
   "cell_type": "code",
   "execution_count": null,
   "metadata": {
    "collapsed": true
   },
   "outputs": [],
   "source": []
  },
  {
   "cell_type": "code",
   "execution_count": null,
   "metadata": {
    "collapsed": true
   },
   "outputs": [],
   "source": []
  },
  {
   "cell_type": "code",
   "execution_count": null,
   "metadata": {
    "collapsed": true
   },
   "outputs": [],
   "source": []
  }
 ],
 "metadata": {
  "kernelspec": {
   "display_name": "Python 2",
   "language": "python",
   "name": "python2"
  },
  "language_info": {
   "codemirror_mode": {
    "name": "ipython",
    "version": 2
   },
   "file_extension": ".py",
   "mimetype": "text/x-python",
   "name": "python",
   "nbconvert_exporter": "python",
   "pygments_lexer": "ipython2",
   "version": "2.7.8"
  }
 },
 "nbformat": 4,
 "nbformat_minor": 0
}
