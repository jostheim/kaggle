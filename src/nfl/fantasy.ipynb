{
 "cells": [
  {
   "cell_type": "code",
   "execution_count": 1,
   "metadata": {
    "collapsed": false
   },
   "outputs": [],
   "source": [
    "import pandas as pd\n",
    "import pylab as p\n",
    "import matplotlib.pyplot as plt\n",
    "from sklearn.ensemble import RandomForestClassifier\n",
    "from sklearn.ensemble import RandomForestRegressor\n",
    "from sklearn.ensemble import ExtraTreesClassifier, ExtraTreesRegressor\n",
    "from sklearn import cross_validation\n",
    "from sklearn.grid_search import GridSearchCV\n",
    "from sklearn.cross_validation import ShuffleSplit, train_test_split\n",
    "import scipy\n",
    "import random\n",
    "import time\n",
    "from multiprocessing import Pool"
   ]
  },
  {
   "cell_type": "code",
   "execution_count": 2,
   "metadata": {
    "collapsed": false
   },
   "outputs": [],
   "source": [
    "core_df = pd.read_csv('/Users/jostheim/workspace/kaggle/data/nfl/NFLData_2000-2012/CORE.csv')\n",
    "game_df = pd.read_csv('/Users/jostheim/workspace/kaggle/data/nfl/NFLData_2000-2012/GAMES.csv')\n",
    "team_df = pd.read_csv('/Users/jostheim/workspace/kaggle/data/nfl/NFLData_2000-2012/TEAM.csv', index_col=[0])\n",
    "\n",
    "#win_orig_df = win_orig_df.join(game_df)\n",
    "offense_df = pd.read_csv('/Users/jostheim/workspace/kaggle/data/nfl/NFLData_2000-2012/OFFENSE.csv', index_col=[0])\n",
    "defense_df = pd.read_csv('/Users/jostheim/workspace/kaggle/data/nfl/NFLData_2000-2012/DEFENSE.csv', index_col=[0])\n",
    "players_df = pd.read_csv('/Users/jostheim/workspace/kaggle/data/nfl/NFLData_2000-2012/PLAYERS.csv')\n",
    "# players_df['player_id'] = players_df.index\n",
    "# offense_df = offense_df.join(players_df)\n",
    "# defense_df = defense_df.join(players_df)\n"
   ]
  },
  {
   "cell_type": "code",
   "execution_count": 3,
   "metadata": {
    "collapsed": false
   },
   "outputs": [
    {
     "name": "stdout",
     "output_type": "stream",
     "text": [
      "Index([u'GID', u'PLAYER', u'PA', u'PC', u'PY', u'INT', u'TDP', u'RA', u'SRA', u'RY', u'TDR', u'TRG', u'REC', u'RECY', u'TDRE', u'FUML', u'PENY', u'FPTS', u'GAME', u'SEAS', u'YEAR', u'TEAM'], dtype='object')\n"
     ]
    }
   ],
   "source": [
    "print offense_df.columns"
   ]
  },
  {
   "cell_type": "code",
   "execution_count": 4,
   "metadata": {
    "collapsed": false
   },
   "outputs": [],
   "source": [
    "teams = offense_df.groupby('TEAM')"
   ]
  },
  {
   "cell_type": "code",
   "execution_count": 5,
   "metadata": {
    "collapsed": true
   },
   "outputs": [],
   "source": [
    "def get_game_features(index, team_game_data, game, players_team):\n",
    "    feature = {}\n",
    "    for team_game_row in team_game_data.iterrows():\n",
    "        this_player_team = False\n",
    "        # setup which team for this game is this_players team\n",
    "        if players_team == team_game_row[1]['TNAME']:\n",
    "            this_player_team = True\n",
    "        #setup the features from the game data (weather, point spread and stuff)\n",
    "        for key, val in game.iteritems():\n",
    "            if key in ignore_columns:\n",
    "                continue\n",
    "            if key in categorical_to_binary_columns:\n",
    "                if val.values[0] != \"\\N\":\n",
    "                    feature['IS_{0}_{1}_{2}'.format(index, val.values[0], 'my' if this_player_team else 'opp')] = 1.0\n",
    "            else:\n",
    "                if str(val.dtype) == \"object\":\n",
    "                    if key in convert_to_float_columns:\n",
    "                        if str.isdigit(val.values[0].strip()):\n",
    "                            feature['{0}_{1}_{2}'.format(index, 'my' if this_player_team else 'opp', key)] = float(val.values[0])\n",
    "                        else:\n",
    "                            feature['{0}_{1}_{2}'.format(index, 'my' if this_player_team else 'opp', key)]  = 0.0\n",
    "                    else:\n",
    "                        feature['{0}_{1}_{2}'.format(index, 'my' if this_player_team else 'opp', key)] = val.values[0]\n",
    "                else:\n",
    "                    feature['{0}_{1}_{2}'.format(index, 'my' if this_player_team else 'opp', key)] = val.values[0]\n",
    "        # setup the features from the teams participating in the game\n",
    "        for key, val in team_game_row[1].iteritems():\n",
    "            if key in ignore_columns:\n",
    "                continue\n",
    "            if key in categorical_to_binary_columns:\n",
    "                feature['IS_{0}_{1}_{2}'.format(index, val.values[0], 'my' if this_player_team else 'opp')] = 1.0\n",
    "            else:\n",
    "                feature['{0}_{1}_{2}'.format(index, 'my' if this_player_team else 'opp', key)] = val\n",
    "    return feature"
   ]
  },
  {
   "cell_type": "code",
   "execution_count": 6,
   "metadata": {
    "collapsed": false
   },
   "outputs": [],
   "source": [
    "def get_features_for_player(player_id):\n",
    "    features = []\n",
    "    offense_player_plays = offense_df[offense_df['PLAYER'] == player_id]\n",
    "#     defense_player_plays = defense_df[defense_df['PLAYER'] == player_id]\n",
    "    if j%1000 == 0:\n",
    "        print \"{0}/{1}\".format(j, total_count)\n",
    "    if len(offense_player_plays) > 0:\n",
    "        offense_player_plays = offense_player_plays.sort(['GID'], ascending=[0])\n",
    "        for i,row in enumerate(offense_player_plays.iterrows()):\n",
    "            # target is this games fantasy points\n",
    "            feature = {'target':row[1]['FPTS']}\n",
    "            pos = players_df[players_df['PLAYER'] == row[1]['PLAYER']]['POS1'].values[0]\n",
    "            opp_team = None\n",
    "            game = game_df[game_df['GID'] == row[1]['GID']]\n",
    "            if row[1]['TEAM'] == game['V'].values[0]:\n",
    "                opp_team = game['H'].values[0]\n",
    "            else:\n",
    "                opp_team = game['V'].values[0]            \n",
    "            feature['IS_{0}'.format(pos)] = 1.0\n",
    "            # features are all the older games not including this one [i:] historical data\n",
    "            # this means there is a feature for every game for each player\n",
    "            for k, offesne_player_row in enumerate(offense_player_plays[i+1:(i+5)].iterrows()):\n",
    "                # this will be the 2 teams that played\n",
    "                team_game_data = team_df[team_df['GID'] == offesne_player_row[1]['GID']]\n",
    "                # this is basic info on the game, who is home and visitor\n",
    "                game = game_df[game_df['GID'] == offesne_player_row[1]['GID']]\n",
    "                feature.update(get_game_features(k, team_game_data, game, row[1]['TEAM']))\n",
    "#                 print feature\n",
    "                # setup the features for the player\n",
    "                for key, val in offesne_player_row[1].iteritems():\n",
    "                    if key in ignore_columns:\n",
    "                        continue\n",
    "                    if key in categorical_to_binary_columns:\n",
    "                        feature[\"IS_{0}_{1}\".format(val, k)] = 1.0\n",
    "                    else:\n",
    "                        feature[\"{0}_{1}\".format(key, k)] = val\n",
    "                features.append(feature)\n",
    "#                 print feature\n",
    "#                 break\n",
    "#             break\n",
    "    return features"
   ]
  },
  {
   "cell_type": "code",
   "execution_count": 7,
   "metadata": {
    "collapsed": false
   },
   "outputs": [
    {
     "name": "stdout",
     "output_type": "stream",
     "text": [
      "0/6541\n",
      "1000/6541\n",
      "2000/6541\n",
      "3000/6541\n",
      "4000/6541\n",
      "5000/6541\n",
      "6000/6541\n"
     ]
    }
   ],
   "source": [
    "ignore_columns = ['PLAYER', 'GID', 'TID', 'TNAME', 'FPTS']\n",
    "categorical_to_binary_columns = ['V', 'H','STAD', 'WDIR', 'COND', 'SURF', 'TEAM', 'DAY']\n",
    "convert_to_float_columns = ['HUMD', 'WSPD']\n",
    "features = []\n",
    "total_count = len(players_df.index)\n",
    "for j, row in enumerate(players_df.iterrows()):\n",
    "    features += get_features_for_player(row[1]['PLAYER'])\n",
    "#         if j > 10:\n",
    "#             break\n",
    "        "
   ]
  },
  {
   "cell_type": "code",
   "execution_count": null,
   "metadata": {
    "collapsed": false
   },
   "outputs": [],
   "source": [
    "features_df = pd.DataFrame(features)\n",
    "features_df = features_df.fillna(0.0)\n",
    "# for i, col in enumerate(features_df.columns):\n",
    "#     print features_df.columns[i], features_df.dtypes[i]"
   ]
  },
  {
   "cell_type": "code",
   "execution_count": null,
   "metadata": {
    "collapsed": false
   },
   "outputs": [],
   "source": [
    "features_df = features_df.fillna(0.0)\n",
    "if 'target' in features_df.columns:\n",
    "    targets = features_df['target']\n",
    "if 'target' in features_df.columns:\n",
    "    del features_df['target']\n",
    "x_train, x_test, y_train, y_test = train_test_split(features_df, targets, test_size=0.33, random_state=42)\n",
    "cfr = ExtraTreesRegressor(\n",
    "    oob_score = True, bootstrap=True, verbose = 1, max_features = None, n_estimators = 1000, min_samples_leaf = 1,\n",
    "    n_jobs=7,\n",
    "    random_state=0,\n",
    ")\n",
    "cfr.fit(x_train, y_train)\n",
    "\n"
   ]
  },
  {
   "cell_type": "code",
   "execution_count": null,
   "metadata": {
    "collapsed": false
   },
   "outputs": [],
   "source": [
    "score = cfr.score(x_test, y_test)\n",
    "print score"
   ]
  },
  {
   "cell_type": "code",
   "execution_count": null,
   "metadata": {
    "collapsed": false
   },
   "outputs": [],
   "source": [
    "print \"Features sorted by their score:\"\n",
    "print sorted(zip(map(lambda x: round(x, 4), cfr.feature_importances_), x_train.columns), \n",
    "             reverse=True)"
   ]
  },
  {
   "cell_type": "code",
   "execution_count": null,
   "metadata": {
    "collapsed": false
   },
   "outputs": [],
   "source": [
    "predictions = cfr.predict(x_test)\n",
    "plt.scatter(y_test, predictions)\n",
    "plt.show()"
   ]
  },
  {
   "cell_type": "code",
   "execution_count": null,
   "metadata": {
    "collapsed": true
   },
   "outputs": [],
   "source": []
  },
  {
   "cell_type": "code",
   "execution_count": null,
   "metadata": {
    "collapsed": true
   },
   "outputs": [],
   "source": []
  },
  {
   "cell_type": "code",
   "execution_count": null,
   "metadata": {
    "collapsed": true
   },
   "outputs": [],
   "source": []
  }
 ],
 "metadata": {
  "kernelspec": {
   "display_name": "Python 2",
   "language": "python",
   "name": "python2"
  },
  "language_info": {
   "codemirror_mode": {
    "name": "ipython",
    "version": 2
   },
   "file_extension": ".py",
   "mimetype": "text/x-python",
   "name": "python",
   "nbconvert_exporter": "python",
   "pygments_lexer": "ipython2",
   "version": "2.7.8"
  }
 },
 "nbformat": 4,
 "nbformat_minor": 0
}
