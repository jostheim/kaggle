{
 "cells": [
  {
   "cell_type": "code",
   "execution_count": 221,
   "metadata": {
    "collapsed": false
   },
   "outputs": [],
   "source": [
    "import pandas as pd\n",
    "import pylab as p\n",
    "import matplotlib.pyplot as plt\n",
    "from sklearn.ensemble import RandomForestClassifier\n",
    "from sklearn.ensemble import RandomForestRegressor\n",
    "from sklearn.ensemble import ExtraTreesClassifier, ExtraTreesRegressor\n",
    "from sklearn import cross_validation\n",
    "from sklearn.grid_search import GridSearchCV\n",
    "from sklearn.cross_validation import ShuffleSplit, train_test_split\n",
    "import scipy\n",
    "import random\n",
    "import time\n",
    "from multiprocessing import Pool"
   ]
  },
  {
   "cell_type": "code",
   "execution_count": 222,
   "metadata": {
    "collapsed": false
   },
   "outputs": [],
   "source": [
    "core_df = pd.read_csv('/Users/jostheim/workspace/kaggle/data/nfl/NFLData_2000-2012/CORE.csv')\n",
    "game_df = pd.read_csv('/Users/jostheim/workspace/kaggle/data/nfl/NFLData_2000-2012/GAMES.csv')\n",
    "team_df = pd.read_csv('/Users/jostheim/workspace/kaggle/data/nfl/NFLData_2000-2012/TEAM.csv', index_col=[0])\n",
    "plays_df = pd.read_csv('/Users/jostheim/workspace/kaggle/data/nfl/NFLData_2000-2012/CORE.csv', index_col=[1])\n",
    "pass_df = pd.read_csv('/Users/jostheim/workspace/kaggle/data/nfl/NFLData_2000-2012/PASS.csv', index_col=[0])\n",
    "rush_df = pd.read_csv('/Users/jostheim/workspace/kaggle/data/nfl/NFLData_2000-2012/RUSH.csv', index_col=[0])\n",
    "pass_df = pass_df.join(plays_df)\n",
    "rush_df = rush_df.join(plays_df)\n",
    "\n",
    "\n",
    "#win_orig_df = win_orig_df.join(game_df)\n",
    "offense_df = pd.read_csv('/Users/jostheim/workspace/kaggle/data/nfl/NFLData_2000-2012/OFFENSE.csv', index_col=[0])\n",
    "defense_df = pd.read_csv('/Users/jostheim/workspace/kaggle/data/nfl/NFLData_2000-2012/DEFENSE.csv', index_col=[0])\n",
    "players_df = pd.read_csv('/Users/jostheim/workspace/kaggle/data/nfl/NFLData_2000-2012/PLAYERS.csv')\n",
    "# players_df['player_id'] = players_df.index\n",
    "# offense_df = offense_df.join(players_df)\n",
    "# defense_df = defense_df.join(players_df)\n"
   ]
  },
  {
   "cell_type": "code",
   "execution_count": 223,
   "metadata": {
    "collapsed": true
   },
   "outputs": [],
   "source": [
    "def get_num_plays(row):\n",
    "    num_plays = len(pass_df[(pass_df['GID'] == row['GID']) & \n",
    "                                ((pass_df['PSR'] == row['PLAYER']) | (pass_df['TRG'] == row['PLAYER']))])\n",
    "    num_plays += len(rush_df[(rush_df['GID'] == row['GID']) & \n",
    "                                (rush_df['BC'] == row['PLAYER'])])\n",
    "    return num_plays\n",
    "\n",
    "def get_position(row):\n",
    "    pos = players_df[players_df['PLAYER'] == row['PLAYER']]['POS1'].values[0]\n",
    "    return pos\n",
    "\n",
    "    \n",
    "    \n",
    "features = []\n",
    "offense_df['SNP'] = offense_df.apply(lambda row: get_num_plays(row), axis=1)\n",
    "offense_df['POS'] = offense_df.apply(lambda row: get_position(row), axis=1)\n",
    "defense_df['SNP'] = defense_df.apply(lambda row: get_num_plays(row), axis=1)\n",
    "defense_df['POS'] = defense_df.apply(lambda row: get_position(row), axis=1)"
   ]
  },
  {
   "cell_type": "code",
   "execution_count": 224,
   "metadata": {
    "collapsed": false
   },
   "outputs": [
    {
     "name": "stdout",
     "output_type": "stream",
     "text": [
      "Index([u'GID', u'PLAYER', u'PA', u'PC', u'PY', u'INT', u'TDP', u'RA', u'SRA', u'RY', u'TDR', u'TRG', u'REC', u'RECY', u'TDRE', u'FUML', u'PENY', u'FPTS', u'GAME', u'SEAS', u'YEAR', u'TEAM', u'SNP', u'POS'], dtype='object')\n"
     ]
    }
   ],
   "source": [
    "print offense_df.columns"
   ]
  },
  {
   "cell_type": "code",
   "execution_count": 225,
   "metadata": {
    "collapsed": false
   },
   "outputs": [],
   "source": [
    "ignore_columns = ['PLAYER', 'GID', 'TID', 'TNAME', 'FPTS', 'POS']\n",
    "categorical_to_binary_columns = ['V', 'H','STAD', 'WDIR', 'COND', 'SURF', 'TEAM', 'DAY']\n",
    "convert_to_float_columns = ['HUMD', 'WSPD']\n"
   ]
  },
  {
   "cell_type": "code",
   "execution_count": 226,
   "metadata": {
    "collapsed": true
   },
   "outputs": [],
   "source": [
    "def get_game_features(index, game, my_team):\n",
    "    feature = {}\n",
    "    #setup the features from the game data (weather, point spread and stuff)\n",
    "    if my_team == game['V'].values[0]:\n",
    "        feature['is_visitor'] = 1.0\n",
    "    else:\n",
    "        feature['is_visitor'] = 0.0\n",
    "    \n",
    "    for key, val in game.iteritems():\n",
    "        if key in ignore_columns:\n",
    "            continue\n",
    "        if key in categorical_to_binary_columns:\n",
    "            if val.values[0] != \"\\N\":\n",
    "                feature['IS_{0}_{1}'.format(index, val.values[0])] = 1.0\n",
    "        else:\n",
    "            if str(val.dtype) == \"object\":\n",
    "                if key in convert_to_float_columns:\n",
    "                    if str.isdigit(val.values[0].strip()):\n",
    "                        feature['{0}_{1}'.format(index, key)] = float(val.values[0])\n",
    "                    else:\n",
    "                        feature['{0}_{1}'.format(index, key)]  = 0.0\n",
    "                else:\n",
    "                    feature['{0}_{1}'.format(index, key)] = val.values[0]\n",
    "            else:\n",
    "                feature['{0}_{1}'.format(index, key)] = val.values[0]\n",
    "    return feature\n",
    "\n",
    "def get_team_game_features(index, team_game_data, game, players_team):\n",
    "    feature = {}\n",
    "    for team_game_row in team_game_data.iterrows():\n",
    "        this_player_team = False\n",
    "        # setup which team for this game is this_players team\n",
    "        if players_team == team_game_row[1]['TNAME']:\n",
    "            this_player_team = True\n",
    "        if not this_player_team:\n",
    "            continue\n",
    "        # setup the features from the teams participating in the game\n",
    "        for key, val in team_game_row[1].iteritems():\n",
    "            if key in ignore_columns:\n",
    "                continue\n",
    "            if key in categorical_to_binary_columns:\n",
    "                feature['IS_{0}_{1}_{2}'.format(index, val.values[0], 'my' if this_player_team else 'opp')] = 1.0\n",
    "            else:\n",
    "                feature['{0}_{1}_{2}'.format(index, 'my' if this_player_team else 'opp', key)] = val\n",
    "    return feature"
   ]
  },
  {
   "cell_type": "code",
   "execution_count": 231,
   "metadata": {
    "collapsed": false
   },
   "outputs": [],
   "source": [
    "def get_features_for_player(index, offesne_player_row):\n",
    "    feature = {}\n",
    "    for key, val in offesne_player_row.iteritems():\n",
    "        if key in ignore_columns:\n",
    "            continue\n",
    "        if key in categorical_to_binary_columns:\n",
    "            feature[\"IS_{0}_{1}\".format(val, index)] = 1.0\n",
    "        else:\n",
    "            feature[\"{0}_{1}\".format(key, index)] = val\n",
    "    return feature\n",
    "\n",
    "def get_career_features_for_player(stats_df, player_id):\n",
    "    feature = {}\n",
    "    all_player = stats_df[stats_df['PLAYER'] == player_id]\n",
    "    for i, column in enumerate(all_player.columns):\n",
    "        col_name = all_player.columns[i]\n",
    "        if col_name in ignore_columns or str(all_player.dtypes[i]) == \"object\":\n",
    "            continue\n",
    "        feature[\"career_{0}_sum\".format(col_name)] = all_player[column].sum()\n",
    "        feature[\"career_{0}_mean\".format(col_name)] = all_player[column].mean()\n",
    "        feature[\"career_{0}_std\".format(col_name)] = all_player[column].std()\n",
    "    return feature\n",
    "\n",
    "def get_moving_mean_features(index, moving_mean):\n",
    "    feature = {}\n",
    "    for i, col_name in enumerate(moving_mean.columns):\n",
    "        if col_name in ignore_columns:\n",
    "            continue\n",
    "        if col_name not in categorical_to_binary_columns:\n",
    "            feature[\"moving_average_{0}_{1}_sum\".format(index, col_name)] = moving_mean[col_name].sum()\n",
    "            feature[\"moving_average_{0}_{1}_mean\".format(index, col_name)] = moving_mean[col_name].mean()\n",
    "            feature[\"moving_average_{0}_{1}_std\".format(index, col_name)] = moving_mean[col_name].std()\n",
    "    return feature\n",
    "    \n",
    "def get_historical_features_for_player(stats_df, player_id, game_id, my_team, opp_team):\n",
    "    feature = {}\n",
    "    player_plays = stats_df[(stats_df['PLAYER'] == player_id)]\n",
    "#     defense_player_plays = defense_df[defense_df['PLAYER'] == player_id]\n",
    "    if len(player_plays) > 0:\n",
    "        feature = {'target':stats_df['FPTS']}\n",
    "        feature.update(get_career_features_for_player(stats_df, player_id))\n",
    "        player_plays = player_plays.sort(['GID'], ascending=[0])\n",
    "        for i,(index, row) in enumerate(player_plays.iterrows()):\n",
    "            player_id = row['PLAYER']\n",
    "            # target is this games fantasy points\n",
    "            \n",
    "            pos = row['POS']\n",
    "            # features are all the older games not including this one [i:] historical data\n",
    "            # this means there is a feature for every game for each player\n",
    "            moving_mean = pd.DataFrame(columns=player_plays.columns)\n",
    "            for k, (index, player_row) in enumerate(player_plays[i+1:(i+5)].iterrows()):\n",
    "                game_id = player_row['GID']\n",
    "                # this will be the 2 teams that played\n",
    "                team_game_data = team_df[team_df['GID'] == game_id]\n",
    "                # this is basic info on the game, who is home and visitor\n",
    "                game = game_df[game_df['GID'] == game_id]\n",
    "#                 feature.update(get_game_features(k, game, my_team))\n",
    "#                 feature.update(get_team_game_features(k, team_game_data, game, my_team))\n",
    "                # setup the features for the player\n",
    "                feature.update(get_features_for_player(k, player_row))\n",
    "                moving_mean.loc[k] = player_row\n",
    "                feature.update(get_moving_mean_features(k, moving_mean))\n",
    "    return feature\n",
    "\n",
    "def get_features_for_game(game_id, team, opp_team):\n",
    "    game_features = []\n",
    "    offense_game_players = offense_df[(offense_df['GID'] == game_id) & (offense_df['TEAM'] == team)]\n",
    "    defense_game_players = defense_df[(defense_df['GID'] == game_id) & (defense_df['TEAM'] == opp_team)]\n",
    "\n",
    "    print \"game_id:\", game_id, \"num_players:\", len(offense_game_players), len(defense_game_players)\n",
    "    # so everything is ordered the same, order by position and then by snaps descending, so the\n",
    "    # position with the most snaps is always first\n",
    "    offense_game_players = offense_game_players.sort(['POS', 'SNP'], ascending=[1, 0])\n",
    "    defense_game_players = defense_game_players.sort(['POS', 'SNP'], ascending=[1, 0])\n",
    "    offense_game_players_features = {}\n",
    "    defense_game_players_features = {}\n",
    "\n",
    "    # offense players\n",
    "    for j, (index, current_player) in enumerate(offense_game_players.iterrows()):\n",
    "        current_player_id = current_player['PLAYER']\n",
    "        # we go through the \"team\" players as offense\n",
    "        offense_game_players_features[current_player_id] = (get_historical_features_for_player(offense_df, current_player_id, game_id, team, opp_team), current_player['POS'])\n",
    "\n",
    "    #defensive players\n",
    "    for j, (index, current_player) in enumerate(defense_game_players.iterrows()):        \n",
    "        current_player_id = current_player['PLAYER']\n",
    "        # and the \"opp_team\" is the defense\n",
    "        defense_game_players_features[current_player_id] = (get_historical_features_for_player(defense_df, current_player_id, game_id, opp_team, team), current_player['POS'])\n",
    "        \n",
    "    for k, (player_id_focus, (features_focus, pos_focus)) in enumerate(offense_game_players_features.iteritems()):\n",
    "        for j, (player_id, (features, pos)) in enumerate(offense_game_players_features.iteritems()):\n",
    "            prefix = \"off_{0}_{1}\".format(pos, j)\n",
    "            # if we are working on the current player as the focus then assign him the current tag\n",
    "            if player_id_focus == player_id:\n",
    "                prefix = \"off_{0}_current\".format(pos)\n",
    "            for i, (key, val) in enumerate(features.iteritems()):\n",
    "                feature['{0}_{1}'.format(prefix, key)] = val\n",
    "        for j, (player_id, (features, pos)) in enumerate(defense_game_players_features.iteritems()):\n",
    "            prefix = \"def_{0}_{1}\".format(pos, j)\n",
    "            for i, (key, val) in enumerate(features.iteritems()):\n",
    "                feature['{0}_{1}'.format(prefix, key)] = val\n",
    "        game_features.append(feature)\n",
    "    return game_features"
   ]
  },
  {
   "cell_type": "code",
   "execution_count": null,
   "metadata": {
    "collapsed": false
   },
   "outputs": [
    {
     "name": "stdout",
     "output_type": "stream",
     "text": [
      "game_id: 3455 num_players: 8 17\n",
      "0/3455"
     ]
    }
   ],
   "source": [
    "total_count = len(game_df.index)\n",
    "all_features = []\n",
    "game_df = game_df.sort(['GID'], ascending=[0])\n",
    "for game_count, (game_index, game) in enumerate(game_df.iterrows()):\n",
    "    game_id = game['GID']\n",
    "    teams = [game['H'], game['V']]\n",
    "    for team in teams:\n",
    "        opp_team = teams[0]\n",
    "        if team == teams[0]:\n",
    "            opp_team = teams[1]\n",
    "        all_features += get_features_for_game(game_id, team, opp_team)        \n",
    "        if game_count%1000 == 0:\n",
    "            print \"{0}/{1}\".format(game_count, total_count)\n",
    "        "
   ]
  },
  {
   "cell_type": "code",
   "execution_count": null,
   "metadata": {
    "collapsed": false
   },
   "outputs": [],
   "source": [
    "features_df = pd.DataFrame(features)\n",
    "features_df = features_df.fillna(0.0)\n",
    "print features_df\n",
    "# for i, col in enumerate(features_df.columns):\n",
    "#     print features_df.columns[i], features_df.dtypes[i]"
   ]
  },
  {
   "cell_type": "code",
   "execution_count": null,
   "metadata": {
    "collapsed": false
   },
   "outputs": [],
   "source": [
    "features_df = features_df.fillna(0.0)\n",
    "if 'target' in features_df.columns:\n",
    "    targets = features_df['target']\n",
    "if 'target' in features_df.columns:\n",
    "    del features_df['target']\n",
    "x_train, x_test, y_train, y_test = train_test_split(features_df, targets, test_size=0.33, random_state=42)\n",
    "cfr = ExtraTreesRegressor(\n",
    "    oob_score = True, bootstrap=True, verbose = 1, max_features = None, n_estimators = 100, min_samples_leaf = 1,\n",
    "    n_jobs=7,\n",
    "    random_state=0,\n",
    ")\n",
    "cfr.fit(x_train, y_train)\n",
    "\n"
   ]
  },
  {
   "cell_type": "code",
   "execution_count": null,
   "metadata": {
    "collapsed": false
   },
   "outputs": [],
   "source": [
    "score = cfr.score(x_test, y_test)\n",
    "print score"
   ]
  },
  {
   "cell_type": "code",
   "execution_count": null,
   "metadata": {
    "collapsed": false
   },
   "outputs": [],
   "source": [
    "print \"Features sorted by their score:\"\n",
    "print sorted(zip(map(lambda x: round(x, 4), cfr.feature_importances_), x_train.columns), \n",
    "             reverse=True)"
   ]
  },
  {
   "cell_type": "code",
   "execution_count": null,
   "metadata": {
    "collapsed": false
   },
   "outputs": [],
   "source": [
    "predictions = cfr.predict(x_test)\n",
    "plt.scatter(y_test, predictions)\n",
    "plt.show()"
   ]
  },
  {
   "cell_type": "code",
   "execution_count": null,
   "metadata": {
    "collapsed": true
   },
   "outputs": [],
   "source": []
  },
  {
   "cell_type": "code",
   "execution_count": null,
   "metadata": {
    "collapsed": true
   },
   "outputs": [],
   "source": []
  },
  {
   "cell_type": "code",
   "execution_count": null,
   "metadata": {
    "collapsed": true
   },
   "outputs": [],
   "source": []
  }
 ],
 "metadata": {
  "kernelspec": {
   "display_name": "Python 2",
   "language": "python",
   "name": "python2"
  },
  "language_info": {
   "codemirror_mode": {
    "name": "ipython",
    "version": 2
   },
   "file_extension": ".py",
   "mimetype": "text/x-python",
   "name": "python",
   "nbconvert_exporter": "python",
   "pygments_lexer": "ipython2",
   "version": "2.7.8"
  }
 },
 "nbformat": 4,
 "nbformat_minor": 0
}
