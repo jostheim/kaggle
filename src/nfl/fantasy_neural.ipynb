{
 "cells": [
  {
   "cell_type": "code",
   "execution_count": 1,
   "metadata": {
    "collapsed": true
   },
   "outputs": [],
   "source": [
    "%matplotlib inline\n",
    "import pandas as pd\n",
    "import pylab as p\n",
    "import matplotlib.pyplot as plt\n",
    "import numpy as np\n",
    "from sklearn.ensemble import RandomForestClassifier\n",
    "from sklearn.ensemble import RandomForestRegressor\n",
    "from sklearn.ensemble import ExtraTreesClassifier, ExtraTreesRegressor, GradientBoostingRegressor\n",
    "from sklearn import cross_validation\n",
    "from sklearn.grid_search import GridSearchCV\n",
    "from sklearn.metrics import median_absolute_error, mean_squared_error, explained_variance_score, mean_absolute_error, r2_score\n",
    "from sklearn.cross_validation import ShuffleSplit, train_test_split\n",
    "import scipy\n",
    "import random\n",
    "import time\n",
    "from multiprocessing import Pool\n",
    "import matplotlib\n",
    "matplotlib.style.use('ggplot')"
   ]
  },
  {
   "cell_type": "code",
   "execution_count": 2,
   "metadata": {
    "collapsed": false
   },
   "outputs": [],
   "source": [
    "game_df = pd.read_csv('/Users/jostheim/workspace/kaggle/data/nfl/NFLData_2000-2012/GAMES.csv', index_col=[0], na_values=\"\\N\" )\n",
    "game_df.drop(['V', 'H'], axis=1, inplace=True)\n",
    "game_df = pd.get_dummies(game_df, columns=['DAY', 'STAD', 'WDIR', 'COND', 'SURF'])"
   ]
  },
  {
   "cell_type": "code",
   "execution_count": 3,
   "metadata": {
    "collapsed": false
   },
   "outputs": [],
   "source": [
    "player_df = pd.read_csv('/Users/jostheim/workspace/kaggle/data/nfl/NFLData_2000-2012/PLAYERS.csv', index_col=[0])\n",
    "player_df.drop(['FNAME', 'LNAME', 'PNAME'], axis=1, inplace=True)\n",
    "player_df = pd.get_dummies(player_df, columns=['POS1', 'POS2', 'COL'])"
   ]
  },
  {
   "cell_type": "code",
   "execution_count": 4,
   "metadata": {
    "collapsed": false
   },
   "outputs": [],
   "source": [
    "plays_df = pd.read_csv('/Users/jostheim/workspace/kaggle/data/nfl/NFLData_2000-2012/CORE.csv', index_col=[1])\n",
    "plays_df = pd.get_dummies(plays_df, columns=['OFF', 'DEF', 'TYPE'])"
   ]
  },
  {
   "cell_type": "code",
   "execution_count": 5,
   "metadata": {
    "collapsed": false
   },
   "outputs": [],
   "source": [
    "pass_df = pd.read_csv('/Users/jostheim/workspace/kaggle/data/nfl/NFLData_2000-2012/PASS.csv', index_col=[0])\n",
    "pass_df['PID'] = pass_df.index\n",
    "pass_df.set_index('PSR', inplace=True)\n",
    "pass_df = pass_df.join(player_df, rsuffix=\"_pass_psr\")\n",
    "pass_df['PSR'] = pass_df.index\n",
    "pass_df.set_index('TRG', inplace=True)\n",
    "pass_df = pass_df.join(player_df, rsuffix=\"_pass_trg\")\n",
    "pass_df['TRG'] = pass_df.index\n",
    "pass_df.drop(['PSR', 'TRG'], axis=1, inplace=True)\n",
    "pass_df = pd.get_dummies(pass_df, columns=['LOC'])"
   ]
  },
  {
   "cell_type": "code",
   "execution_count": 6,
   "metadata": {
    "collapsed": false
   },
   "outputs": [],
   "source": [
    "rush_df = pd.read_csv('/Users/jostheim/workspace/kaggle/data/nfl/NFLData_2000-2012/RUSH.csv', index_col=[0])\n",
    "rush_df['PID'] = rush_df.index\n",
    "rush_df.set_index('BC', inplace=True)\n",
    "rush_df = rush_df.join(player_df, rsuffix=\"_rush_bc\")\n",
    "rush_df['BC'] = rush_df.index\n",
    "rush_df.drop(['BC'], axis=1, inplace=True)\n",
    "rush_df = pd.get_dummies(rush_df, columns=['DIR'])"
   ]
  },
  {
   "cell_type": "code",
   "execution_count": 7,
   "metadata": {
    "collapsed": false
   },
   "outputs": [],
   "source": [
    "# player does not need to be joined either a rusher, passer or ball carrier\n",
    "conv_df = pd.read_csv('/Users/jostheim/workspace/kaggle/data/nfl/NFLData_2000-2012/CONVS.csv', index_col=[0], true_values=['Y'], false_values=['N'])\n",
    "conv_df.drop(['BC', 'PSR', 'TRG'], axis=1, inplace=True)\n",
    "conv_df = pd.get_dummies(conv_df, columns=['TYPE'])"
   ]
  },
  {
   "cell_type": "code",
   "execution_count": 8,
   "metadata": {
    "collapsed": false
   },
   "outputs": [],
   "source": [
    "kickoff_df = pd.read_csv('/Users/jostheim/workspace/kaggle/data/nfl/NFLData_2000-2012/KICKOFFS.csv', index_col=[0], true_values=['Y'], false_values=['N'])\n",
    "kickoff_df['PID'] = kickoff_df.index\n",
    "kickoff_df.set_index('KR', inplace=True)\n",
    "kickoff_df = kickoff_df.join(player_df, rsuffix=\"_kickoff_returner\")\n",
    "kickoff_df['KR'] = kickoff_df.index\n",
    "kickoff_df.set_index('KICKER', inplace=True)\n",
    "kickoff_df = kickoff_df.join(player_df, rsuffix=\"_kickoff_kicker\")\n",
    "kickoff_df['KICKER'] = kickoff_df.index\n",
    "kickoff_df.drop(['KICKER', 'KR'], axis=1, inplace=True)"
   ]
  },
  {
   "cell_type": "code",
   "execution_count": 9,
   "metadata": {
    "collapsed": false
   },
   "outputs": [],
   "source": [
    "punt_df = pd.read_csv('/Users/jostheim/workspace/kaggle/data/nfl/NFLData_2000-2012/PUNTS.csv', index_col=[0], true_values=['Y'], false_values=['N'])\n",
    "punt_df['PID'] = punt_df.index\n",
    "punt_df.set_index('PR', inplace=True)\n",
    "punt_df = punt_df.join(player_df, rsuffix=\"_punt_returner\")\n",
    "punt_df['PR'] = punt_df.index\n",
    "punt_df.set_index('PUNTER', inplace=True)\n",
    "punt_df = punt_df.join(player_df, rsuffix=\"_punt_kicker\")\n",
    "punt_df['PUNTER'] = punt_df.index\n",
    "punt_df.drop(['PR', 'PUNTER'], axis=1, inplace=True)"
   ]
  },
  {
   "cell_type": "code",
   "execution_count": 10,
   "metadata": {
    "collapsed": false
   },
   "outputs": [],
   "source": [
    "tackle_df = pd.read_csv('/Users/jostheim/workspace/kaggle/data/nfl/NFLData_2000-2012/TACKLES.csv', index_col=[0])\n",
    "tackle_df['PID'] = tackle_df.index\n",
    "tackle_df.set_index('TCK', inplace=True)\n",
    "tackle_df = tackle_df.join(player_df, rsuffix=\"_tackler\")\n",
    "tackle_df['TCK'] = tackle_df.index\n",
    "tackle_df.drop('TCK', axis=1, inplace=True)"
   ]
  },
  {
   "cell_type": "code",
   "execution_count": 11,
   "metadata": {
    "collapsed": false
   },
   "outputs": [],
   "source": [
    "intercept_df = pd.read_csv('/Users/jostheim/workspace/kaggle/data/nfl/NFLData_2000-2012/INTS.csv', index_col=[0])\n",
    "intercept_df['PID'] = intercept_df.index\n",
    "intercept_df.set_index('INT', inplace=True)\n",
    "intercept_df = intercept_df.join(player_df, rsuffix=\"_int\")\n",
    "intercept_df['INT'] = intercept_df.index\n",
    "intercept_df.drop(['INT'], axis=1, inplace=True)"
   ]
  },
  {
   "cell_type": "code",
   "execution_count": 12,
   "metadata": {
    "collapsed": false
   },
   "outputs": [],
   "source": [
    "fumble_df = pd.read_csv('/Users/jostheim/workspace/kaggle/data/nfl/NFLData_2000-2012/FUMBLES.csv', index_col=[0])\n",
    "fumble_df['PID'] = fumble_df.index\n",
    "fumble_df.set_index('FUM', inplace=True)\n",
    "fumble_df = fumble_df.join(player_df, rsuffix=\"_fum\")\n",
    "fumble_df['FUM'] = fumble_df.index\n",
    "fumble_df.set_index('FRCV', inplace=True)\n",
    "fumble_df = fumble_df.join(player_df, rsuffix=\"_fum\")\n",
    "fumble_df['FRCV'] = fumble_df.index\n",
    "fumble_df.drop(['FUM', 'FRCV'], axis=1, inplace=True)"
   ]
  },
  {
   "cell_type": "code",
   "execution_count": 13,
   "metadata": {
    "collapsed": false
   },
   "outputs": [],
   "source": [
    "penalty_df = pd.read_csv('/Users/jostheim/workspace/kaggle/data/nfl/NFLData_2000-2012/PENALTIES.csv', index_col=[0])\n",
    "penalty_df['PID'] = penalty_df.index\n",
    "penalty_df.set_index('PEN', inplace=True)\n",
    "penalty_df = penalty_df.join(player_df, rsuffix=\"_pen\")\n",
    "penalty_df['PEN'] = penalty_df.index\n",
    "penalty_df.drop(['PEN'], axis=1, inplace=True)\n",
    "penalty_df = pd.get_dummies(penalty_df, columns=['DESC', 'ACT', 'PTM'])"
   ]
  },
  {
   "cell_type": "code",
   "execution_count": 14,
   "metadata": {
    "collapsed": false
   },
   "outputs": [],
   "source": [
    "fg_df = pd.read_csv('/Users/jostheim/workspace/kaggle/data/nfl/NFLData_2000-2012/FGXP.csv', index_col=[0], true_values=['Y'], false_values=['N'])\n",
    "fg_df['PID'] = fg_df.index\n",
    "fg_df.set_index('FKICKER', inplace=True)\n",
    "fg_df = fg_df.join(player_df, rsuffix=\"_FKICKER\")\n",
    "fg_df['FKICKER'] = fg_df.index\n",
    "fg_df.drop('FKICKER', axis=1, inplace=True)\n",
    "fg_df = pd.get_dummies(fg_df, columns=['FGXP'])"
   ]
  },
  {
   "cell_type": "code",
   "execution_count": 15,
   "metadata": {
    "collapsed": false
   },
   "outputs": [],
   "source": [
    "block_df = pd.read_csv('/Users/jostheim/workspace/kaggle/data/nfl/NFLData_2000-2012/BLOCKS.csv', index_col=[0])\n",
    "block_df['PID'] = block_df.index\n",
    "block_df.set_index('BLK', inplace=True)\n",
    "block_df = block_df.join(player_df, rsuffix=\"_BLK\")\n",
    "block_df['BLK'] = block_df.index\n",
    "block_df.set_index('BRCV', inplace=True)\n",
    "block_df = block_df.join(player_df, rsuffix=\"_BRCV\")\n",
    "block_df['BRCV'] = block_df.index\n",
    "block_df.drop(['BLK', 'BRCV'], axis=1, inplace=True)"
   ]
  },
  {
   "cell_type": "code",
   "execution_count": 16,
   "metadata": {
    "collapsed": false
   },
   "outputs": [],
   "source": [
    "safety_df = pd.read_csv('/Users/jostheim/workspace/kaggle/data/nfl/NFLData_2000-2012/SAFETIES.csv', index_col=[0])\n",
    "safety_df['PID'] = safety_df.index\n",
    "safety_df.set_index('SAF', inplace=True)\n",
    "safety_df = safety_df.join(player_df, rsuffix=\"_SAF\")\n",
    "safety_df['SAF'] = safety_df.index\n",
    "safety_df.drop(['SAF'], axis=1, inplace=True)"
   ]
  },
  {
   "cell_type": "code",
   "execution_count": 17,
   "metadata": {
    "collapsed": false
   },
   "outputs": [],
   "source": [
    "sack_df = pd.read_csv('/Users/jostheim/workspace/kaggle/data/nfl/NFLData_2000-2012/SACKS.csv', index_col=[0])\n",
    "sack_df['PID'] = sack_df.index\n",
    "sack_df.set_index('SK', inplace=True)\n",
    "sack_df = sack_df.join(player_df, rsuffix=\"_SK\")\n",
    "sack_df['SK'] = sack_df.index\n",
    "sack_df.set_index('QB', inplace=True)\n",
    "sack_df = sack_df.join(player_df, rsuffix=\"_QB\")\n",
    "sack_df['QB'] = sack_df.index\n",
    "sack_df.drop(['SK', 'QB'], axis=1, inplace=True)"
   ]
  },
  {
   "cell_type": "code",
   "execution_count": null,
   "metadata": {
    "collapsed": false
   },
   "outputs": [],
   "source": [
    "plays_df = plays_df.join(conv_df, rsuffix=\"_conv\")\n",
    "plays_df = plays_df.join(kickoff_df, rsuffix=\"_kickoff\")\n",
    "plays_df = plays_df.join(punt_df, rsuffix=\"_punt\")\n",
    "plays_df = plays_df.join(tackle_df, rsuffix=\"_tackle\")\n",
    "plays_df = plays_df.join(intercept_df, rsuffix=\"_intercept\")\n",
    "plays_df = plays_df.join(fumble_df, rsuffix=\"_fumble\")\n",
    "plays_df = plays_df.join(pass_df, rsuffix=\"_pass\")\n",
    "plays_df = plays_df.join(rush_df, rsuffix=\"_rush\")\n",
    "plays_df = plays_df.join(penalty_df, rsuffix=\"_penalty\")\n",
    "plays_df = plays_df.join(fg_df, rsuffix=\"_fg\")\n",
    "plays_df = plays_df.join(block_df, rsuffix=\"_block\")\n",
    "plays_df['PID'] = plays_df.index\n",
    "plays_df.set_index(\"GID\", inplace=True)\n",
    "plays_df = plays_df.join(game_df, rsuffix=\"_game\")\n",
    "plays_df['GID'] = plays_df.index\n",
    "plays_df.drop(['PID_conv', 'PID_kickoff', 'PID_punt', 'PID_tackle', 'PID_intercept', 'PID_fumble', 'PID_pass', 'PID_rush', 'PID_penalty', 'PID_fg', 'PID_block'])"
   ]
  },
  {
   "cell_type": "code",
   "execution_count": null,
   "metadata": {
    "collapsed": false
   },
   "outputs": [],
   "source": [
    "for i, col in enumerate(plays_df.columns):\n",
    "    print col, plays_df.dtypes[i]"
   ]
  },
  {
   "cell_type": "code",
   "execution_count": null,
   "metadata": {
    "collapsed": false
   },
   "outputs": [],
   "source": [
    "print plays_df"
   ]
  },
  {
   "cell_type": "code",
   "execution_count": null,
   "metadata": {
    "collapsed": true
   },
   "outputs": [],
   "source": []
  }
 ],
 "metadata": {
  "kernelspec": {
   "display_name": "Python 2",
   "language": "python",
   "name": "python2"
  },
  "language_info": {
   "codemirror_mode": {
    "name": "ipython",
    "version": 2
   },
   "file_extension": ".py",
   "mimetype": "text/x-python",
   "name": "python",
   "nbconvert_exporter": "python",
   "pygments_lexer": "ipython2",
   "version": "2.7.8"
  }
 },
 "nbformat": 4,
 "nbformat_minor": 0
}
